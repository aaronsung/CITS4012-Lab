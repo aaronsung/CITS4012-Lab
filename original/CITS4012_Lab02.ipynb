{
  "cells": [
    {
      "cell_type": "markdown",
      "metadata": {
        "id": "GCHPkKbuhPF6"
      },
      "source": [
        "# Lab 02\n",
        "\n",
        "Today we will investigate some word representation models.\n",
        "\n"
      ]
    },
    {
      "cell_type": "markdown",
      "metadata": {
        "id": "qZ0HLTPGemjV"
      },
      "source": [
        "## Word2Vec"
      ]
    },
    {
      "cell_type": "code",
      "execution_count": null,
      "metadata": {
        "colab": {
          "base_uri": "https://localhost:8080/"
        },
        "id": "GNyhgK5QTOuD",
        "outputId": "69dd3404-77a8-4172-f1b3-a2133839a9bd"
      },
      "outputs": [
        {
          "output_type": "stream",
          "name": "stderr",
          "text": [
            "[nltk_data] Downloading package punkt to /root/nltk_data...\n",
            "[nltk_data]   Unzipping tokenizers/punkt.zip.\n"
          ]
        }
      ],
      "source": [
        "import pprint\n",
        "import re\n",
        "\n",
        "# For parsing our XML data\n",
        "from lxml import etree\n",
        "\n",
        "# For data processing\n",
        "import nltk\n",
        "nltk.download('punkt')\n",
        "from nltk.tokenize import word_tokenize, sent_tokenize\n",
        "\n",
        "# For implementing the word2vec family of algorithms\n",
        "from gensim.models import Word2Vec\n",
        "\n",
        "import warnings\n",
        "warnings.simplefilter(action='ignore', category=FutureWarning)"
      ]
    },
    {
      "cell_type": "markdown",
      "metadata": {
        "id": "Bmae7urS8RHD"
      },
      "source": [
        "### Download data from Google Drive\n",
        "For today's lab we will download and use the TED script data from Google Drive."
      ]
    },
    {
      "cell_type": "markdown",
      "metadata": {
        "id": "gV7vMHSahdnf"
      },
      "source": [
        "#### Google Drive Access Setup\n",
        "Running the following code will generate a link and a field for entering a verification code.\n",
        "\n",
        "Click the link, which will direct to the Google Sign In page. Sign in with your own Google account by following the instructions on the page.\n",
        "\n",
        "Then copy the generated verification code from the page into the verification code field and press Enter"
      ]
    },
    {
      "cell_type": "code",
      "execution_count": null,
      "metadata": {
        "id": "oTSQtnPkfyzj",
        "colab": {
          "base_uri": "https://localhost:8080/"
        },
        "outputId": "3c79839e-18ce-4e6f-9de1-3e046baad36e"
      },
      "outputs": [
        {
          "output_type": "stream",
          "name": "stderr",
          "text": [
            "WARNING:root:pydrive is deprecated and no longer maintained. We recommend that you migrate your projects to pydrive2, the maintained fork of pydrive\n"
          ]
        }
      ],
      "source": [
        "!pip install -U -q PyDrive\n",
        "from pydrive.auth import GoogleAuth\n",
        "from pydrive.drive import GoogleDrive\n",
        "from google.colab import auth\n",
        "from oauth2client.client import GoogleCredentials\n",
        "# Authenticate and create the PyDrive client.\n",
        "auth.authenticate_user()\n",
        "gauth = GoogleAuth()\n",
        "gauth.credentials = GoogleCredentials.get_application_default()\n",
        "drive = GoogleDrive(gauth)"
      ]
    },
    {
      "cell_type": "markdown",
      "metadata": {
        "id": "ewAbjQzThnT5"
      },
      "source": [
        "#### Downloading TED Scripts from Google Drive\n",
        "Click on left side \"Files\" tab and see the file is downloaded successfully."
      ]
    },
    {
      "cell_type": "code",
      "execution_count": null,
      "metadata": {
        "id": "EVk7tjwvhl-6"
      },
      "outputs": [],
      "source": [
        "id = '1B47OiEiG2Lo1jUY6hy_zMmHBxfKQuJ8-'\n",
        "downloaded = drive.CreateFile({'id':id})\n",
        "downloaded.GetContentFile('ted_en-20160408.xml')"
      ]
    },
    {
      "cell_type": "markdown",
      "metadata": {
        "id": "FIPpEvI4kqMV"
      },
      "source": [
        "### Data Preprocessing"
      ]
    },
    {
      "cell_type": "code",
      "execution_count": null,
      "metadata": {
        "colab": {
          "base_uri": "https://localhost:8080/"
        },
        "id": "VYmEQgB7XoDE",
        "outputId": "396b878c-579c-4bee-f6f0-755b11835528"
      },
      "outputs": [
        {
          "output_type": "stream",
          "name": "stdout",
          "text": [
            "[['here', 'are', 'two', 'reasons', 'companies', 'fail', 'they', 'only', 'do', 'more', 'of', 'the', 'same', 'or', 'they', 'only', 'do', 'what', 's', 'new'], ['to', 'me', 'the', 'real', 'real', 'solution', 'to', 'quality', 'growth', 'is', 'figuring', 'out', 'the', 'balance', 'between', 'two', 'activities', 'exploration', 'and', 'exploitation'], ['both', 'are', 'necessary', 'but', 'it', 'can', 'be', 'too', 'much', 'of', 'a', 'good', 'thing'], ['consider', 'facit'], ['i', 'm', 'actually', 'old', 'enough', 'to', 'remember', 'them'], ['facit', 'was', 'a', 'fantastic', 'company'], ['they', 'were', 'born', 'deep', 'in', 'the', 'swedish', 'forest', 'and', 'they', 'made', 'the', 'best', 'mechanical', 'calculators', 'in', 'the', 'world'], ['everybody', 'used', 'them'], ['and', 'what', 'did', 'facit', 'do', 'when', 'the', 'electronic', 'calculator', 'came', 'along'], ['they', 'continued', 'doing', 'exactly', 'the', 'same']]\n"
          ]
        }
      ],
      "source": [
        "targetXML=open('ted_en-20160408.xml', 'r', encoding='UTF8')\n",
        "\n",
        "# Getting contents of <content> tag from the xml file\n",
        "target_text = etree.parse(targetXML)\n",
        "\n",
        "# Tokenising the sentence to process it by using NLTK library\n",
        "sent_text=[]\n",
        "for parse_text in target_text.xpath('//content/text()'):\n",
        "  # Removing \"Sound-effect labels\" using regular expression (regex) (i.e. (Audio), (Laughter))\n",
        "  content_text = re.sub(r'\\([^)]*\\)', '', parse_text)\n",
        "  sent_text.extend(sent_tokenize(content_text))\n",
        "\n",
        "# Removing punctuation and changing all characters to lower case\n",
        "normalized_text = []\n",
        "for string in sent_text:\n",
        "     tokens = re.sub(r\"[^a-z0-9]+\", \" \", string.lower())\n",
        "     normalized_text.append(tokens)\n",
        "\n",
        "# Tokenising each sentence to process individual word\n",
        "sentences=[]\n",
        "sentences=[word_tokenize(sentence) for sentence in normalized_text]\n",
        "\n",
        "# Prints only 10 (tokenised) sentences\n",
        "print(sentences[:10])"
      ]
    },
    {
      "cell_type": "markdown",
      "metadata": {
        "id": "CojV1MbhkQxK"
      },
      "source": [
        "### Word2Vec - Continuous Bag-Of-Words (CBOW)"
      ]
    },
    {
      "cell_type": "markdown",
      "metadata": {
        "id": "vLq1VIZ7TDog"
      },
      "source": [
        "For more details about gensim.models.word2vec you can refer to [API for Gensim Word2Vec](https://radimrehurek.com/gensim/models/word2vec.html)"
      ]
    },
    {
      "cell_type": "code",
      "execution_count": null,
      "metadata": {
        "id": "zW1iEee3lZC9"
      },
      "outputs": [],
      "source": [
        "# Initialize and train a word2vec model with the following parameters:\n",
        "# sentence: iterable of iterables, i.e. the list of lists of tokens from our data\n",
        "# vector_size: dimensionality of the word vectors\n",
        "# window: window size\n",
        "# min_count: ignores all words with total frequency lower than the specified count value\n",
        "# workers: Use specified number of worker threads to train the model (=faster training with multicore machines)\n",
        "# sg: training algorithm, 0 for CBOW, 1 for skip-gram\n",
        "wv_cbow_model = Word2Vec(sentences=sentences, vector_size=100, window=5, min_count=5, workers=2, sg=0)"
      ]
    },
    {
      "cell_type": "code",
      "execution_count": null,
      "metadata": {
        "colab": {
          "base_uri": "https://localhost:8080/"
        },
        "id": "2FKp3X7pkRm6",
        "outputId": "bac290f5-8214-46b1-9054-a4a4c449705d"
      },
      "outputs": [
        {
          "output_type": "stream",
          "name": "stdout",
          "text": [
            "[('woman', 0.85884028673172),\n",
            " ('guy', 0.8050429224967957),\n",
            " ('lady', 0.7761840224266052),\n",
            " ('boy', 0.7606604099273682),\n",
            " ('girl', 0.7341204285621643),\n",
            " ('soldier', 0.7252178192138672),\n",
            " ('gentleman', 0.7228072881698608),\n",
            " ('kid', 0.685493528842926),\n",
            " ('philosopher', 0.6800588369369507),\n",
            " ('poet', 0.6658486127853394)]\n"
          ]
        }
      ],
      "source": [
        "# The trained word vectors are stored in a KeyedVectors instance as model.wv\n",
        "# Get the top 10 similar words to 'man' by calling most_similar()\n",
        "# most_similar() computes cosine similarity between a simple mean of the vectors of the given words and the vectors for each word in the model\n",
        "\n",
        "similar_words= wv_cbow_model.wv.most_similar(\"man\") # topn=10 by default\n",
        "pprint.pprint(similar_words)"
      ]
    },
    {
      "cell_type": "code",
      "execution_count": null,
      "metadata": {
        "colab": {
          "base_uri": "https://localhost:8080/"
        },
        "id": "q9201pniCRJ5",
        "outputId": "898f4db0-43e3-41b7-8ce9-c4515a81ab0c"
      },
      "outputs": [
        {
          "output_type": "stream",
          "name": "stdout",
          "text": [
            "(100,)\n"
          ]
        },
        {
          "output_type": "execute_result",
          "data": {
            "text/plain": [
              "array([ 0.09752054, -1.7048998 , -0.3927809 , -0.197203  ,  2.4183264 ,\n",
              "        0.01465437,  0.3228022 ,  0.42163727, -0.0171387 , -0.6605882 ,\n",
              "       -0.74560004, -0.96162635,  0.19437446,  0.96771395, -0.01674331,\n",
              "        0.26324943, -0.03814998,  0.25344738,  0.25238296, -0.78426325,\n",
              "       -0.30651787,  1.5139014 , -0.35894403, -0.77932674,  1.0639185 ,\n",
              "        1.1385064 , -1.4502352 , -1.517368  , -0.83038294, -0.5446675 ,\n",
              "       -0.9404644 , -0.03271703,  0.7495478 , -0.060891  , -1.0564381 ,\n",
              "       -0.44513673, -1.9301311 , -0.15498392, -1.1136335 ,  0.06189119,\n",
              "        0.34393534, -2.2192385 , -0.01922637,  1.6798431 , -0.04897499,\n",
              "       -0.76566994, -0.5496341 , -2.0176222 , -0.5679335 ,  0.7180316 ,\n",
              "        0.3086062 , -1.5326548 ,  0.5414363 ,  1.1458629 , -0.32314843,\n",
              "       -0.6098352 , -0.19891505, -0.5975438 , -2.1235178 , -0.74966747,\n",
              "       -0.83874613, -0.01365102,  0.72948486,  2.3679872 , -1.7067131 ,\n",
              "        0.1825819 , -0.27291763, -0.58539635, -0.8447112 ,  1.2821457 ,\n",
              "        1.2142278 , -0.01594556,  1.6764816 , -0.78884345, -0.6177853 ,\n",
              "       -1.4390887 ,  0.08795173, -0.16243604, -0.0773537 ,  1.5300568 ,\n",
              "        1.2119826 ,  0.76458794, -0.6318842 ,  0.08530374, -0.4558389 ,\n",
              "        0.42644176, -0.08787847,  0.6096965 , -1.7188596 , -0.20972998,\n",
              "       -0.91792876,  0.09214389,  0.6761082 ,  0.5687723 ,  1.8978037 ,\n",
              "        0.5927588 ,  0.90835196, -0.00646593, -3.498895  ,  2.9580412 ],\n",
              "      dtype=float32)"
            ]
          },
          "metadata": {},
          "execution_count": 7
        }
      ],
      "source": [
        "# Get the actual values of the word embedding\n",
        "print(wv_cbow_model.wv['man'].shape)\n",
        "wv_cbow_model.wv['man']"
      ]
    },
    {
      "cell_type": "markdown",
      "metadata": {
        "id": "dsFHg0znlPSf"
      },
      "source": [
        "### Word2Vec - Skip Gram"
      ]
    },
    {
      "cell_type": "code",
      "execution_count": null,
      "metadata": {
        "id": "k16AowhCWUXu"
      },
      "outputs": [],
      "source": [
        "# Now we switch to a Skip Gram model by setting parameter sg=1\n",
        "wv_sg_model = Word2Vec(sentences=sentences, vector_size=100, window=5, min_count=5, workers=2, sg=1)"
      ]
    },
    {
      "cell_type": "code",
      "execution_count": null,
      "metadata": {
        "colab": {
          "base_uri": "https://localhost:8080/"
        },
        "id": "e8UiVfr2cBtA",
        "outputId": "7ca31e9a-2db5-48fb-a901-b3e13c8093ed"
      },
      "outputs": [
        {
          "output_type": "stream",
          "name": "stdout",
          "text": [
            "[('woman', 0.7417126297950745),\n",
            " ('guy', 0.7371781468391418),\n",
            " ('rabbi', 0.7060274481773376),\n",
            " ('soldier', 0.7017602324485779),\n",
            " ('policeman', 0.6645005345344543),\n",
            " ('boy', 0.6624342203140259),\n",
            " ('imam', 0.6567011475563049),\n",
            " ('son', 0.6566629409790039),\n",
            " ('person', 0.6515254974365234),\n",
            " ('gentleman', 0.646120011806488)]\n"
          ]
        }
      ],
      "source": [
        "similar_words = wv_sg_model.wv.most_similar(\"man\")\n",
        "pprint.pprint(similar_words)"
      ]
    },
    {
      "cell_type": "code",
      "execution_count": null,
      "metadata": {
        "colab": {
          "base_uri": "https://localhost:8080/"
        },
        "id": "Q7hpsEniCWNP",
        "outputId": "9c705267-837e-445d-f2d9-92c6c636f0f0"
      },
      "outputs": [
        {
          "output_type": "stream",
          "name": "stdout",
          "text": [
            "(100,)\n"
          ]
        },
        {
          "output_type": "execute_result",
          "data": {
            "text/plain": [
              "array([-0.10804738, -0.06325296,  0.04220492, -0.50701934, -0.11081363,\n",
              "       -0.29566824,  0.21114121, -0.0611649 , -0.26061308, -0.01817041,\n",
              "       -0.05778365, -0.26864287,  0.04791848,  0.36370543,  0.0774152 ,\n",
              "       -0.05616963,  0.12694724, -0.08711078, -0.11924009, -0.5077694 ,\n",
              "        0.30895   ,  0.05560905,  0.32383907, -0.01564948,  0.16182892,\n",
              "       -0.1885898 , -0.24681138, -0.34487268, -0.29758367, -0.00235035,\n",
              "        0.04132336,  0.19263478,  0.4393107 , -0.13775158,  0.3441807 ,\n",
              "        0.08638134, -0.5551699 , -0.05426409, -0.10489742,  0.1625049 ,\n",
              "        0.12007243, -0.5757402 , -0.30873248,  0.12799713,  0.39605644,\n",
              "        0.00933212, -0.13820495, -0.15448119,  0.1744019 ,  0.13772321,\n",
              "        0.03568351, -0.6233534 ,  0.17705995,  0.39685735, -0.34484294,\n",
              "       -0.15507793,  0.08746764, -0.34408644, -0.67502856, -0.20299976,\n",
              "        0.2568999 ,  0.1263105 ,  0.14698814,  0.15186182, -0.39677098,\n",
              "        0.00637471,  0.17541972, -0.21856672, -0.45794624,  0.27141836,\n",
              "        0.20803298, -0.17135818,  0.3051303 , -0.42623812,  0.274651  ,\n",
              "        0.01460147, -0.10292286, -0.29013848, -0.4473217 ,  0.5813744 ,\n",
              "       -0.20647366, -0.11816908, -0.4102961 ,  0.13761699, -0.57702893,\n",
              "       -0.12055276,  0.18880323,  0.47135252,  0.14146379, -0.5508144 ,\n",
              "        0.01572112,  0.24733102,  0.11074933,  0.21666709,  0.35946146,\n",
              "        0.04489097,  0.33347505,  0.15604447, -0.64208317,  0.18187647],\n",
              "      dtype=float32)"
            ]
          },
          "metadata": {},
          "execution_count": 10
        }
      ],
      "source": [
        "# Get the actual values of the word embedding\n",
        "print(wv_sg_model.wv['man'].shape)\n",
        "wv_sg_model.wv['man']"
      ]
    },
    {
      "cell_type": "markdown",
      "metadata": {
        "id": "NfF7YqvpppbG"
      },
      "source": [
        "## Word2Vec vs FastText"
      ]
    },
    {
      "cell_type": "markdown",
      "metadata": {
        "id": "d8IV7D6VAEcr"
      },
      "source": [
        "Word2Vec - Skip Gram cannot find similar words to \"electrofishing\" as \"electrofishing\" is not in the vocabulary."
      ]
    },
    {
      "cell_type": "code",
      "execution_count": null,
      "metadata": {
        "colab": {
          "base_uri": "https://localhost:8080/",
          "height": 304
        },
        "id": "oS9c2uWWquWG",
        "outputId": "1702c102-d9a0-4271-dc2b-f30ef5a88869"
      },
      "outputs": [
        {
          "output_type": "error",
          "ename": "KeyError",
          "evalue": "\"Key 'electrofishing' not present in vocabulary\"",
          "traceback": [
            "\u001b[0;31m---------------------------------------------------------------------------\u001b[0m",
            "\u001b[0;31mKeyError\u001b[0m                                  Traceback (most recent call last)",
            "\u001b[0;32m<ipython-input-11-a2f7ec57b31e>\u001b[0m in \u001b[0;36m<cell line: 1>\u001b[0;34m()\u001b[0m\n\u001b[0;32m----> 1\u001b[0;31m \u001b[0msimilar_words\u001b[0m\u001b[0;34m=\u001b[0m\u001b[0mwv_sg_model\u001b[0m\u001b[0;34m.\u001b[0m\u001b[0mwv\u001b[0m\u001b[0;34m.\u001b[0m\u001b[0mmost_similar\u001b[0m\u001b[0;34m(\u001b[0m\u001b[0;34m\"electrofishing\"\u001b[0m\u001b[0;34m)\u001b[0m\u001b[0;34m\u001b[0m\u001b[0;34m\u001b[0m\u001b[0m\n\u001b[0m\u001b[1;32m      2\u001b[0m \u001b[0mpprint\u001b[0m\u001b[0;34m.\u001b[0m\u001b[0mpprint\u001b[0m\u001b[0;34m(\u001b[0m\u001b[0msimilar_words\u001b[0m\u001b[0;34m)\u001b[0m\u001b[0;34m\u001b[0m\u001b[0;34m\u001b[0m\u001b[0m\n",
            "\u001b[0;32m/usr/local/lib/python3.10/dist-packages/gensim/models/keyedvectors.py\u001b[0m in \u001b[0;36mmost_similar\u001b[0;34m(self, positive, negative, topn, clip_start, clip_end, restrict_vocab, indexer)\u001b[0m\n\u001b[1;32m    839\u001b[0m \u001b[0;34m\u001b[0m\u001b[0m\n\u001b[1;32m    840\u001b[0m         \u001b[0;31m# compute the weighted average of all keys\u001b[0m\u001b[0;34m\u001b[0m\u001b[0;34m\u001b[0m\u001b[0m\n\u001b[0;32m--> 841\u001b[0;31m         \u001b[0mmean\u001b[0m \u001b[0;34m=\u001b[0m \u001b[0mself\u001b[0m\u001b[0;34m.\u001b[0m\u001b[0mget_mean_vector\u001b[0m\u001b[0;34m(\u001b[0m\u001b[0mkeys\u001b[0m\u001b[0;34m,\u001b[0m \u001b[0mweight\u001b[0m\u001b[0;34m,\u001b[0m \u001b[0mpre_normalize\u001b[0m\u001b[0;34m=\u001b[0m\u001b[0;32mTrue\u001b[0m\u001b[0;34m,\u001b[0m \u001b[0mpost_normalize\u001b[0m\u001b[0;34m=\u001b[0m\u001b[0;32mTrue\u001b[0m\u001b[0;34m,\u001b[0m \u001b[0mignore_missing\u001b[0m\u001b[0;34m=\u001b[0m\u001b[0;32mFalse\u001b[0m\u001b[0;34m)\u001b[0m\u001b[0;34m\u001b[0m\u001b[0;34m\u001b[0m\u001b[0m\n\u001b[0m\u001b[1;32m    842\u001b[0m         all_keys = [\n\u001b[1;32m    843\u001b[0m             \u001b[0mself\u001b[0m\u001b[0;34m.\u001b[0m\u001b[0mget_index\u001b[0m\u001b[0;34m(\u001b[0m\u001b[0mkey\u001b[0m\u001b[0;34m)\u001b[0m \u001b[0;32mfor\u001b[0m \u001b[0mkey\u001b[0m \u001b[0;32min\u001b[0m \u001b[0mkeys\u001b[0m \u001b[0;32mif\u001b[0m \u001b[0misinstance\u001b[0m\u001b[0;34m(\u001b[0m\u001b[0mkey\u001b[0m\u001b[0;34m,\u001b[0m \u001b[0m_KEY_TYPES\u001b[0m\u001b[0;34m)\u001b[0m \u001b[0;32mand\u001b[0m \u001b[0mself\u001b[0m\u001b[0;34m.\u001b[0m\u001b[0mhas_index_for\u001b[0m\u001b[0;34m(\u001b[0m\u001b[0mkey\u001b[0m\u001b[0;34m)\u001b[0m\u001b[0;34m\u001b[0m\u001b[0;34m\u001b[0m\u001b[0m\n",
            "\u001b[0;32m/usr/local/lib/python3.10/dist-packages/gensim/models/keyedvectors.py\u001b[0m in \u001b[0;36mget_mean_vector\u001b[0;34m(self, keys, weights, pre_normalize, post_normalize, ignore_missing)\u001b[0m\n\u001b[1;32m    516\u001b[0m                 \u001b[0mtotal_weight\u001b[0m \u001b[0;34m+=\u001b[0m \u001b[0mabs\u001b[0m\u001b[0;34m(\u001b[0m\u001b[0mweights\u001b[0m\u001b[0;34m[\u001b[0m\u001b[0midx\u001b[0m\u001b[0;34m]\u001b[0m\u001b[0;34m)\u001b[0m\u001b[0;34m\u001b[0m\u001b[0;34m\u001b[0m\u001b[0m\n\u001b[1;32m    517\u001b[0m             \u001b[0;32melif\u001b[0m \u001b[0;32mnot\u001b[0m \u001b[0mignore_missing\u001b[0m\u001b[0;34m:\u001b[0m\u001b[0;34m\u001b[0m\u001b[0;34m\u001b[0m\u001b[0m\n\u001b[0;32m--> 518\u001b[0;31m                 \u001b[0;32mraise\u001b[0m \u001b[0mKeyError\u001b[0m\u001b[0;34m(\u001b[0m\u001b[0;34mf\"Key '{key}' not present in vocabulary\"\u001b[0m\u001b[0;34m)\u001b[0m\u001b[0;34m\u001b[0m\u001b[0;34m\u001b[0m\u001b[0m\n\u001b[0m\u001b[1;32m    519\u001b[0m \u001b[0;34m\u001b[0m\u001b[0m\n\u001b[1;32m    520\u001b[0m         \u001b[0;32mif\u001b[0m \u001b[0mtotal_weight\u001b[0m \u001b[0;34m>\u001b[0m \u001b[0;36m0\u001b[0m\u001b[0;34m:\u001b[0m\u001b[0;34m\u001b[0m\u001b[0;34m\u001b[0m\u001b[0m\n",
            "\u001b[0;31mKeyError\u001b[0m: \"Key 'electrofishing' not present in vocabulary\""
          ]
        }
      ],
      "source": [
        "similar_words=wv_sg_model.wv.most_similar(\"electrofishing\")\n",
        "pprint.pprint(similar_words)"
      ]
    },
    {
      "cell_type": "markdown",
      "metadata": {
        "id": "5TpkScI8sA9G"
      },
      "source": [
        "### FastText - Skip Gram"
      ]
    },
    {
      "cell_type": "code",
      "execution_count": null,
      "metadata": {
        "id": "YAqOR1Vqps6M"
      },
      "outputs": [],
      "source": [
        "from gensim.models import FastText"
      ]
    },
    {
      "cell_type": "code",
      "execution_count": null,
      "metadata": {
        "id": "kqkvyiUw_DRh"
      },
      "outputs": [],
      "source": [
        "# Now we initialize and train FastText with Skip Gram architecture (sg=1)\n",
        "ft_sg_model = FastText(sentences, vector_size=100, window=5, min_count=5, workers=2, sg=1)"
      ]
    },
    {
      "cell_type": "code",
      "execution_count": null,
      "metadata": {
        "id": "kv26QObJriB7",
        "colab": {
          "base_uri": "https://localhost:8080/"
        },
        "outputId": "bc510d2f-c987-49bd-9500-8294eb7ad401"
      },
      "outputs": [
        {
          "output_type": "stream",
          "name": "stdout",
          "text": [
            "[('electrolux', 0.8727684617042542),\n",
            " ('electrolyte', 0.8716524243354797),\n",
            " ('electroshock', 0.8534331321716309),\n",
            " ('electro', 0.8487404584884644),\n",
            " ('electroencephalogram', 0.8437731266021729),\n",
            " ('electrochemical', 0.84199458360672),\n",
            " ('electronic', 0.8242910504341125),\n",
            " ('electric', 0.820895791053772),\n",
            " ('electrogram', 0.8190897703170776),\n",
            " ('electron', 0.8188847899436951)]\n"
          ]
        }
      ],
      "source": [
        "# As we can see, FastText allows us to obtain word vectors for out-of-vocabulary words\n",
        "result = ft_sg_model.wv.most_similar(\"electrofishing\")\n",
        "pprint.pprint(result)"
      ]
    },
    {
      "cell_type": "code",
      "execution_count": null,
      "metadata": {
        "id": "t2Qjz_MYCjfX",
        "colab": {
          "base_uri": "https://localhost:8080/"
        },
        "outputId": "5e03e6b2-b213-41d3-dd49-03542debd882"
      },
      "outputs": [
        {
          "output_type": "stream",
          "name": "stdout",
          "text": [
            "(100,)\n"
          ]
        },
        {
          "output_type": "execute_result",
          "data": {
            "text/plain": [
              "array([ 0.47368342, -0.4118893 ,  0.2408261 , -0.11097499,  0.34069547,\n",
              "        0.02009808,  0.15638335, -0.16480446,  0.10105068,  0.26584202,\n",
              "       -0.22114399,  0.05702855, -0.48523873,  0.5078433 ,  0.17210424,\n",
              "        0.08079717, -0.11919231,  0.21153729,  0.15586783, -0.4761249 ,\n",
              "       -0.8099394 , -0.2406966 ,  0.17685114,  0.63373667, -0.06214074,\n",
              "        0.07180288, -0.5929665 , -0.32632157,  0.06039548, -0.04155094,\n",
              "       -0.07917813,  0.04924222, -0.08027702,  0.08548241,  0.3930418 ,\n",
              "       -0.11188613,  0.10406673, -0.07635049, -0.1356497 ,  0.21967319,\n",
              "        0.13164927, -0.2754032 , -0.3016102 , -0.09822308,  0.10813569,\n",
              "        0.25989082, -0.1201747 , -0.69097847, -0.3153204 , -0.00557423,\n",
              "       -0.14704008, -0.46702597,  0.17396103,  0.06574987, -0.02052748,\n",
              "       -0.38418677,  0.01656253, -0.27580678, -0.25648484, -0.08529286,\n",
              "        0.1597416 , -0.12899725,  0.3354263 ,  0.19541965, -0.42110857,\n",
              "        0.1930284 ,  0.19305952,  0.1242715 , -0.06858109, -0.08868197,\n",
              "       -0.62597805,  0.59119886, -0.30606303, -0.17321539, -0.06380097,\n",
              "       -0.3359693 ,  0.26055673, -0.02155275, -0.201631  ,  0.06937398,\n",
              "       -0.15802959, -0.30063623,  0.0818346 ,  0.4827918 ,  0.12403052,\n",
              "       -0.01985756,  0.6464405 , -0.48523155, -0.3259736 , -0.20381786,\n",
              "       -0.09636264, -0.3401831 , -0.18543243,  0.06469456, -0.02626303,\n",
              "        0.20309032, -0.13308208,  0.12476724, -0.5163028 ,  0.03083358],\n",
              "      dtype=float32)"
            ]
          },
          "metadata": {},
          "execution_count": 15
        }
      ],
      "source": [
        "# Get the actual values of the word embedding\n",
        "print(ft_sg_model.wv['man'].shape)\n",
        "ft_sg_model.wv['man']"
      ]
    },
    {
      "cell_type": "markdown",
      "metadata": {
        "id": "X0x2aQpfsFSx"
      },
      "source": [
        "### FastText - Continuous Bag-Of-Words (CBOW)"
      ]
    },
    {
      "cell_type": "code",
      "execution_count": null,
      "metadata": {
        "id": "BUBqvqpc2sbL"
      },
      "outputs": [],
      "source": [
        "# Now we initialize and train FastText with CBOW architecture (sg=0)\n",
        "ft_cbow_model = FastText(sentences, vector_size=100, window=5, min_count=5, workers=2, sg=0)"
      ]
    },
    {
      "cell_type": "code",
      "execution_count": null,
      "metadata": {
        "id": "kUj1RUzM2nLA",
        "colab": {
          "base_uri": "https://localhost:8080/"
        },
        "outputId": "82046e33-6784-4faf-b9be-980fbc5bc6e3"
      },
      "outputs": [
        {
          "output_type": "stream",
          "name": "stdout",
          "text": [
            "[('fishing', 0.914101779460907),\n",
            " ('licensing', 0.9052607417106628),\n",
            " ('flourishing', 0.8977987170219421),\n",
            " ('flushing', 0.897772490978241),\n",
            " ('planting', 0.8973671793937683),\n",
            " ('flashing', 0.896248459815979),\n",
            " ('smashing', 0.8962053656578064),\n",
            " ('vanishing', 0.8957921266555786),\n",
            " ('transplanting', 0.8956127762794495),\n",
            " ('filtering', 0.8951489925384521)]\n"
          ]
        }
      ],
      "source": [
        "# Again, FastText allows us to obtain word vectors for out-of-vocabulary words\n",
        "result = ft_cbow_model.wv.most_similar(\"electrofishing\")\n",
        "pprint.pprint(result)"
      ]
    },
    {
      "cell_type": "code",
      "execution_count": null,
      "metadata": {
        "id": "AmrYQASiCqR1",
        "colab": {
          "base_uri": "https://localhost:8080/"
        },
        "outputId": "e1ee5315-a683-4773-ef5f-4d44b2ba4721"
      },
      "outputs": [
        {
          "output_type": "stream",
          "name": "stdout",
          "text": [
            "(100,)\n"
          ]
        },
        {
          "output_type": "execute_result",
          "data": {
            "text/plain": [
              "array([ 2.8329601 , -1.2342981 , -1.4320527 , -0.9379851 ,  0.24418013,\n",
              "       -1.8852623 ,  0.9193693 ,  0.8358878 ,  1.4029315 ,  1.4253992 ,\n",
              "       -2.056025  , -0.16549791, -1.6471901 ,  2.4447958 , -1.3363237 ,\n",
              "        0.31255266,  3.3074434 ,  1.6150535 , -0.04154791, -1.5381042 ,\n",
              "        2.3632257 , -4.467957  ,  0.65610474, -2.5694804 , -0.36426395,\n",
              "        2.1245158 , -1.0242158 ,  0.4626557 , -0.88917226, -0.3060687 ,\n",
              "        1.379461  , -1.790255  ,  2.2446449 ,  3.3976593 ,  1.0682493 ,\n",
              "       -1.225241  ,  1.0607139 , -3.066204  ,  0.08654775,  3.4410625 ,\n",
              "        0.27039734, -4.391709  , -2.5526981 , -0.42069212,  0.91767675,\n",
              "       -3.3553908 ,  0.6107686 , -1.8425055 , -2.3968098 ,  1.7945712 ,\n",
              "        1.4403981 , -3.9893737 , -1.1270734 ,  2.4637115 ,  0.8563643 ,\n",
              "       -1.5596597 , -0.01219235,  1.0664678 , -1.6332512 , -0.7847651 ,\n",
              "        1.3182405 , -1.6497461 ,  2.158659  ,  1.8937433 ,  1.8679917 ,\n",
              "        0.62577486,  0.11851145, -3.1231701 ,  1.3506781 ,  1.3289044 ,\n",
              "       -2.4539227 ,  0.8378831 , -2.849196  , -1.4463212 , -0.506302  ,\n",
              "       -0.6217545 ,  1.0603977 ,  2.0572171 , -1.8845959 ,  3.1393983 ,\n",
              "       -0.9472419 , -1.4934819 ,  0.484197  ,  1.5704218 , -1.4529774 ,\n",
              "        0.5948816 , -0.20294912, -2.7073627 , -0.54047686,  3.1194327 ,\n",
              "       -1.0831602 ,  0.9976578 ,  2.8339674 , -0.97970515, -1.1980515 ,\n",
              "        1.360046  ,  1.9500622 , -0.21389893, -2.6399665 ,  1.8909551 ],\n",
              "      dtype=float32)"
            ]
          },
          "metadata": {},
          "execution_count": 18
        }
      ],
      "source": [
        "# Get the actual values of the word embedding\n",
        "print(ft_cbow_model.wv['man'].shape)\n",
        "ft_cbow_model.wv['man']"
      ]
    },
    {
      "cell_type": "markdown",
      "metadata": {
        "id": "6hjmOhmRi7Ov"
      },
      "source": [
        "## King - Man + Woman = ?"
      ]
    },
    {
      "cell_type": "markdown",
      "metadata": {
        "id": "Xw7b9OSwjGm0"
      },
      "source": [
        "Try both CBOW and Skip Gram model to calculate \"King - Man + Woman = ?\""
      ]
    },
    {
      "cell_type": "code",
      "execution_count": null,
      "metadata": {
        "id": "ovTXjSdgrw36",
        "colab": {
          "base_uri": "https://localhost:8080/"
        },
        "outputId": "fbd8ffb0-3660-4a0d-acd6-ad4026d8741f"
      },
      "outputs": [
        {
          "output_type": "stream",
          "name": "stdout",
          "text": [
            "[('poet', 0.7764468193054199)]\n"
          ]
        }
      ],
      "source": [
        "# We can specify the positive/negative word list with the positive/negative parameters to create a word expression\n",
        "# Top N most similar words can be specified with the topn parameter\n",
        "result = wv_cbow_model.wv.most_similar(positive=['woman', 'king'], negative=['man'], topn=1)\n",
        "print(result)"
      ]
    },
    {
      "cell_type": "code",
      "execution_count": null,
      "metadata": {
        "id": "gUtbE2jwq1to",
        "colab": {
          "base_uri": "https://localhost:8080/"
        },
        "outputId": "fa2441d0-2105-4f24-9f45-1a600238b095"
      },
      "outputs": [
        {
          "output_type": "stream",
          "name": "stdout",
          "text": [
            "[('luther', 0.6277203559875488)]\n"
          ]
        }
      ],
      "source": [
        "result = wv_sg_model.wv.most_similar(positive=['woman', 'king'], negative=['man'], topn=1)\n",
        "print(result)\n"
      ]
    },
    {
      "cell_type": "code",
      "execution_count": null,
      "metadata": {
        "id": "3PWf2I4_WZpG",
        "colab": {
          "base_uri": "https://localhost:8080/"
        },
        "outputId": "cc3e1af9-58a1-4699-9f08-9bf71d75b982"
      },
      "outputs": [
        {
          "output_type": "stream",
          "name": "stdout",
          "text": [
            "[('kidding', 0.8911011815071106)]\n"
          ]
        }
      ],
      "source": [
        "result = ft_cbow_model.wv.most_similar(positive=['woman', 'king'], negative=['man'], topn=1)\n",
        "print(result)\n"
      ]
    },
    {
      "cell_type": "code",
      "execution_count": null,
      "metadata": {
        "id": "j9x51rRhWZrx",
        "colab": {
          "base_uri": "https://localhost:8080/"
        },
        "outputId": "b33eec19-bc50-41aa-bcf9-50903da16716"
      },
      "outputs": [
        {
          "output_type": "stream",
          "name": "stdout",
          "text": [
            "[('jarring', 0.6942265033721924)]\n"
          ]
        }
      ],
      "source": [
        "result = ft_sg_model.wv.most_similar(positive=['woman', 'king'], negative=['man'], topn=1)\n",
        "print(result)\n"
      ]
    },
    {
      "cell_type": "markdown",
      "metadata": {
        "id": "KpAd8t-wjTMA"
      },
      "source": [
        "This is not what we expected...Probably not enough data to answer as \"queen\"\n",
        "\n",
        "Let's try with a larger sized training data (Google has already trained Word2Vec with Google News data) in the following section\n"
      ]
    },
    {
      "cell_type": "markdown",
      "metadata": {
        "id": "GMY5w8F7rElp"
      },
      "source": [
        "## Using Pretrained word embeddings with Gensim\n",
        "\n"
      ]
    },
    {
      "cell_type": "markdown",
      "metadata": {
        "id": "keivkY13L4Nz"
      },
      "source": [
        "### 1.Download and load from Google pretrained Word2Vec binary file\n",
        "[Link to Project](https://code.google.com/archive/p/word2vec/)"
      ]
    },
    {
      "cell_type": "code",
      "execution_count": null,
      "metadata": {
        "id": "teQvZDSirVVC"
      },
      "outputs": [],
      "source": [
        "# Download the pre-trained vectors trained on part of Google News dataset (about 100 billion words)\n",
        "# Beware, this file is big (3.39GB) - might be long waiting!\n",
        "id2 = '0B7XkCwpI5KDYNlNUTTlSS21pQmM'\n",
        "downloaded = drive.CreateFile({'id':id2})\n",
        "downloaded.GetContentFile('GoogleNews-vectors-negative300.bin.gz')"
      ]
    },
    {
      "cell_type": "code",
      "execution_count": null,
      "metadata": {
        "id": "iTrXl4FRMitm"
      },
      "outputs": [],
      "source": [
        "# Uncompress the downloaded file\n",
        "!gzip -d /content/GoogleNews-vectors-negative300.bin.gz"
      ]
    },
    {
      "cell_type": "code",
      "execution_count": null,
      "metadata": {
        "id": "64e_sRJ1rhUa"
      },
      "outputs": [],
      "source": [
        "from gensim.models import KeyedVectors\n",
        "import warnings\n",
        "warnings.simplefilter(action='ignore', category=FutureWarning)\n",
        "\n",
        "# Load the pretrained vectors with KeyedVectors instance\n",
        "# Note that we set the limit=100000 here, which means we set a maximum number of word-vectors to read from the file, to avoid out of memory issue and load vectors faster.\n",
        "\n",
        "filename = 'GoogleNews-vectors-negative300.bin'\n",
        "gn_wv_model = KeyedVectors.load_word2vec_format('GoogleNews-vectors-negative300.bin', binary=True, limit=100000)"
      ]
    },
    {
      "cell_type": "code",
      "execution_count": null,
      "metadata": {
        "id": "PvMQp2-Tr3zl",
        "colab": {
          "base_uri": "https://localhost:8080/"
        },
        "outputId": "b4dfa14e-0b2a-4be6-e836-271157624f77"
      },
      "outputs": [
        {
          "output_type": "stream",
          "name": "stdout",
          "text": [
            "[('queen', 0.7118193507194519)]\n"
          ]
        }
      ],
      "source": [
        "# Now we can try to calculate \"King - Man + Woman = ?\" again\n",
        "result = gn_wv_model.most_similar(positive=['woman', 'king'], negative=['man'], topn=1)\n",
        "print(result)"
      ]
    },
    {
      "cell_type": "code",
      "execution_count": null,
      "metadata": {
        "id": "O9N64tY4RNlw",
        "colab": {
          "base_uri": "https://localhost:8080/"
        },
        "outputId": "26e99689-8afc-40a0-d456-fdceb66d0082"
      },
      "outputs": [
        {
          "output_type": "stream",
          "name": "stdout",
          "text": [
            "(300,)\n",
            "(300,)\n"
          ]
        },
        {
          "output_type": "execute_result",
          "data": {
            "text/plain": [
              "array([[0.5332662]], dtype=float32)"
            ]
          },
          "metadata": {},
          "execution_count": 27
        }
      ],
      "source": [
        "# Let's also try to extract the word embeddings and check their shape\n",
        "wv_banana = gn_wv_model[\"banana\"]\n",
        "wv_avocado = gn_wv_model[\"avocado\"]\n",
        "print(wv_banana.shape)\n",
        "print(wv_avocado.shape)\n",
        "\n",
        "# We can also calculate the cosine similarity ourselves with the extracted words\n",
        "from sklearn.metrics.pairwise import cosine_similarity\n",
        "cosine_similarity([wv_banana],[wv_avocado])"
      ]
    },
    {
      "cell_type": "code",
      "execution_count": null,
      "metadata": {
        "id": "hOgbNjggC7_y",
        "colab": {
          "base_uri": "https://localhost:8080/"
        },
        "outputId": "527dc4c8-bf2f-4941-9ad1-af221a3fc99a"
      },
      "outputs": [
        {
          "output_type": "stream",
          "name": "stdout",
          "text": [
            "(300,)\n"
          ]
        },
        {
          "output_type": "execute_result",
          "data": {
            "text/plain": [
              "array([ 0.32617188,  0.13085938,  0.03466797, -0.08300781,  0.08984375,\n",
              "       -0.04125977, -0.19824219,  0.00689697,  0.14355469,  0.0019455 ,\n",
              "        0.02880859, -0.25      , -0.08398438, -0.15136719, -0.10205078,\n",
              "        0.04077148, -0.09765625,  0.05932617,  0.02978516, -0.10058594,\n",
              "       -0.13085938,  0.001297  ,  0.02612305, -0.27148438,  0.06396484,\n",
              "       -0.19140625, -0.078125  ,  0.25976562,  0.375     , -0.04541016,\n",
              "        0.16210938,  0.13671875, -0.06396484, -0.02062988, -0.09667969,\n",
              "        0.25390625,  0.24804688, -0.12695312,  0.07177734,  0.3203125 ,\n",
              "        0.03149414, -0.03857422,  0.21191406, -0.00811768,  0.22265625,\n",
              "       -0.13476562, -0.07617188,  0.01049805, -0.05175781,  0.03808594,\n",
              "       -0.13378906,  0.125     ,  0.0559082 , -0.18261719,  0.08154297,\n",
              "       -0.08447266, -0.07763672, -0.04345703,  0.08105469, -0.01092529,\n",
              "        0.17480469,  0.30664062, -0.04321289, -0.01416016,  0.09082031,\n",
              "       -0.00927734, -0.03442383, -0.11523438,  0.12451172, -0.0246582 ,\n",
              "        0.08544922,  0.14355469, -0.27734375,  0.03662109, -0.11035156,\n",
              "        0.13085938, -0.01721191, -0.08056641, -0.00708008, -0.02954102,\n",
              "        0.30078125, -0.09033203,  0.03149414, -0.18652344, -0.11181641,\n",
              "        0.10253906, -0.25976562, -0.02209473,  0.16796875, -0.05322266,\n",
              "       -0.14550781, -0.01049805, -0.03039551, -0.03857422,  0.11523438,\n",
              "       -0.0062561 , -0.13964844,  0.08007812,  0.06103516, -0.15332031,\n",
              "       -0.11132812, -0.14160156,  0.19824219, -0.06933594,  0.29296875,\n",
              "       -0.16015625,  0.20898438,  0.00041771,  0.01831055, -0.20214844,\n",
              "        0.04760742,  0.05810547, -0.0123291 , -0.01989746, -0.00364685,\n",
              "       -0.0135498 , -0.08251953, -0.03149414,  0.00717163,  0.20117188,\n",
              "        0.08300781, -0.0480957 , -0.26367188, -0.09667969, -0.22558594,\n",
              "       -0.09667969,  0.06494141, -0.02502441,  0.08496094,  0.03198242,\n",
              "       -0.07568359, -0.25390625, -0.11669922, -0.01446533, -0.16015625,\n",
              "       -0.00701904, -0.05712891,  0.02807617, -0.09179688,  0.25195312,\n",
              "        0.24121094,  0.06640625,  0.12988281,  0.17089844, -0.13671875,\n",
              "        0.1875    , -0.10009766, -0.04199219, -0.12011719,  0.00524902,\n",
              "        0.15625   , -0.203125  , -0.07128906, -0.06103516,  0.01635742,\n",
              "        0.18261719,  0.03588867, -0.04248047,  0.16796875, -0.15039062,\n",
              "       -0.16992188,  0.01831055,  0.27734375, -0.01269531, -0.0390625 ,\n",
              "       -0.15429688,  0.18457031, -0.07910156,  0.09033203, -0.02709961,\n",
              "        0.08251953,  0.06738281, -0.16113281, -0.19628906, -0.15234375,\n",
              "       -0.04711914,  0.04760742,  0.05908203, -0.16894531, -0.14941406,\n",
              "        0.12988281,  0.04321289,  0.02624512, -0.1796875 , -0.19628906,\n",
              "        0.06445312,  0.08935547,  0.1640625 , -0.03808594, -0.09814453,\n",
              "       -0.01483154,  0.1875    ,  0.12792969,  0.22753906,  0.01818848,\n",
              "       -0.07958984, -0.11376953, -0.06933594, -0.15527344, -0.08105469,\n",
              "       -0.09277344, -0.11328125, -0.15136719, -0.08007812, -0.05126953,\n",
              "       -0.15332031,  0.11669922,  0.06835938,  0.0324707 , -0.33984375,\n",
              "       -0.08154297, -0.08349609,  0.04003906,  0.04907227, -0.24121094,\n",
              "       -0.13476562, -0.05932617,  0.12158203, -0.34179688,  0.16503906,\n",
              "        0.06176758, -0.18164062,  0.20117188, -0.07714844,  0.1640625 ,\n",
              "        0.00402832,  0.30273438, -0.10009766, -0.13671875, -0.05957031,\n",
              "        0.0625    , -0.21289062, -0.06542969,  0.1796875 , -0.07763672,\n",
              "       -0.01928711, -0.15039062, -0.00106049,  0.03417969,  0.03344727,\n",
              "        0.19335938,  0.01965332, -0.19921875, -0.10644531,  0.01525879,\n",
              "        0.00927734,  0.01416016, -0.02392578,  0.05883789,  0.02368164,\n",
              "        0.125     ,  0.04760742, -0.05566406,  0.11572266,  0.14746094,\n",
              "        0.1015625 , -0.07128906, -0.07714844, -0.12597656,  0.0291748 ,\n",
              "        0.09521484, -0.12402344, -0.109375  , -0.12890625,  0.16308594,\n",
              "        0.28320312, -0.03149414,  0.12304688, -0.23242188, -0.09375   ,\n",
              "       -0.12988281,  0.0135498 , -0.03881836, -0.08251953,  0.00897217,\n",
              "        0.16308594,  0.10546875, -0.13867188, -0.16503906, -0.03857422,\n",
              "        0.10839844, -0.10498047,  0.06396484,  0.38867188, -0.05981445,\n",
              "       -0.0612793 , -0.10449219, -0.16796875,  0.07177734,  0.13964844,\n",
              "        0.15527344, -0.03125   , -0.20214844, -0.12988281, -0.10058594,\n",
              "       -0.06396484, -0.08349609, -0.30273438, -0.08007812,  0.02099609],\n",
              "      dtype=float32)"
            ]
          },
          "metadata": {},
          "execution_count": 31
        }
      ],
      "source": [
        "# Get the actual value of the word embedding\n",
        "print(gn_wv_model['man'].shape)\n",
        "gn_wv_model['man']"
      ]
    },
    {
      "cell_type": "markdown",
      "metadata": {
        "id": "12Ws7QvPMq9s"
      },
      "source": [
        "### 2.Load a pretrained word embedding model using API\n",
        "The following code illustrates another way of loading pretrained word embeddings with Gensim. Here we try with GloVe embedding trained on Twitter data"
      ]
    },
    {
      "cell_type": "code",
      "execution_count": null,
      "metadata": {
        "id": "cvAP4nyYM_qZ",
        "colab": {
          "base_uri": "https://localhost:8080/"
        },
        "outputId": "41e63e7e-9f0c-45b3-8294-64400b708191"
      },
      "outputs": [
        {
          "output_type": "stream",
          "name": "stdout",
          "text": [
            "[==================================================] 100.0% 104.8/104.8MB downloaded\n",
            "0.95908207\n",
            "0.040917932987213135\n"
          ]
        }
      ],
      "source": [
        "import gensim.downloader as api\n",
        "\n",
        "# download the model and return as object ready for use\n",
        "model = api.load(\"glove-twitter-25\")\n",
        "# The similarity() function can calculate the cosine similarity between two given words\n",
        "print(model.similarity(\"cat\",\"dog\"))\n",
        "# The distance() function is another way of calculating the similarity between two given words, which returns (1 - cosine similarity) instead\n",
        "print(model.distance(\"cat\",\"dog\"))"
      ]
    },
    {
      "cell_type": "code",
      "execution_count": null,
      "metadata": {
        "id": "Rn0_uRZfDLcx",
        "colab": {
          "base_uri": "https://localhost:8080/"
        },
        "outputId": "bd363e9d-2804-4838-f752-dac14a8e3a50"
      },
      "outputs": [
        {
          "output_type": "stream",
          "name": "stdout",
          "text": [
            "(25,)\n"
          ]
        },
        {
          "output_type": "execute_result",
          "data": {
            "text/plain": [
              "array([ 0.37013 , -0.39648 , -0.021712, -0.6301  , -0.3189  ,  0.34329 ,\n",
              "        0.10968 ,  0.4879  , -0.48663 ,  0.36837 , -0.39179 ,  0.25414 ,\n",
              "       -4.9282  ,  0.067597,  0.37147 ,  0.36817 ,  1.1655  ,  0.092116,\n",
              "       -0.87735 , -0.74562 ,  0.40903 ,  1.5672  , -0.23879 ,  0.24755 ,\n",
              "        0.76386 ], dtype=float32)"
            ]
          },
          "metadata": {},
          "execution_count": 34
        }
      ],
      "source": [
        "# Get the actual value of the word embedding\n",
        "print(model['man'].shape)\n",
        "model['man']"
      ]
    },
    {
      "cell_type": "markdown",
      "metadata": {
        "id": "pqLruu6247Ze"
      },
      "source": [
        "# [Tips] Play with Colab Form Fields\n",
        "**The Form** supports multiple types of fields, including **input fields**, **dropdown menus**.\n",
        "\n",
        "In Lab1 E1, we already used the input fields. Let's try more now. You can edit this section by double-clicking it.\n",
        "\n",
        "Let's get familiar by changing the value in each input field (on the right) and checking the changes in the code (on the left) - and vice versa"
      ]
    },
    {
      "cell_type": "code",
      "execution_count": null,
      "metadata": {
        "id": "XBNvQmee5QIG",
        "colab": {
          "base_uri": "https://localhost:8080/"
        },
        "outputId": "48ff1138-54e9-4125-b228-b9e82bbb94b4"
      },
      "outputs": [
        {
          "output_type": "stream",
          "name": "stdout",
          "text": [
            "string is examples\n",
            "slider_value 117\n"
          ]
        }
      ],
      "source": [
        "#@title Example form fields\n",
        "#@markdown please put description\n",
        "\n",
        "string = 'examples'  #@param {type: \"string\"}\n",
        "slider_value = 117  #@param {type: \"slider\", min: 100, max: 200}\n",
        "number = 102  #@param {type: \"number\"}\n",
        "date = '2023-02-17'  #@param {type: \"date\"}\n",
        "pick_me = \"monday\"  #@param ['monday', 'tuesday', 'wednesday', 'thursday']\n",
        "select_or_input = \"apples\" #@param [\"apples\", \"bananas\", \"oranges\"] {allow-input: true}\n",
        "\n",
        "\n",
        "#print the output\n",
        "print(\"string is\",string)\n",
        "print('slider_value',slider_value)"
      ]
    },
    {
      "cell_type": "markdown",
      "metadata": {
        "id": "UfESzUvhCZOt"
      },
      "source": [
        "# Lab 2 Exercise\n",
        "Please complete the following **question E1** for Lab 2 and check with your Lab Facilitator in the lab.\n",
        "\n",
        "**Submission Due**: Your Lab 3 (in Week 4)\n",
        "\n",
        "**Submission Method**: Show your final code to your Lab Facilitator during the Lab."
      ]
    },
    {
      "cell_type": "markdown",
      "metadata": {
        "id": "DupJY3rOcozM"
      },
      "source": [
        "## E1. Let's find synonyms\n",
        "Let's assume the cosine similarity, or distance, between two word embedding vectors can indicate if the words are semantically similar to each other. In this exercise, you will implement a function called find_synonym(), in which:\n",
        "\n",
        "1. A list of 6 words are given\n",
        "2. You need to implement your own algorithm to find the **synonym for each of the words (i.e. words with the highest cosine similarity or smallest distance)** in the list **from the rest of 5 words** based on the cosine similarity calculated. (Using the .similarity() or distance() function from *Load pretrained word embedding model using API* section above may help)\n",
        "3. Print out the synonyms found\n",
        "\n",
        "Please use the pretrained 50-dimensional GloVe word embedding trained on wikipedia and gigaword corpus. (You can use the gensim.downloader to load by passing 'glove-wiki-gigaword-50' to the .load() function, refer to the *Load pretrained word embedding model using API* section above)\n",
        "\n",
        "Before the function, you may need to import any required libraries.\n",
        "\n",
        "\n",
        "\n",
        "\n"
      ]
    },
    {
      "cell_type": "code",
      "execution_count": null,
      "metadata": {
        "id": "HCd23jclUGYF"
      },
      "outputs": [],
      "source": [
        "# Complete the following function based on the requirements above\n",
        "\n",
        "# The list of words to find synonyms\n",
        "words = [\"dog\", \"cat\", \"person\", \"computer\", \"people\", \"laptop\"]\n",
        "\n",
        "# Load GloVe\n",
        "\n",
        "def find_synonym(word):\n",
        "\n",
        "\n",
        "  # Find synonym and return the synonym from the given words list for the given word\n",
        "\n",
        "\n",
        "\n",
        "\n",
        "# Call the function to get the synonyms and print out the synonyms for each word\n"
      ]
    },
    {
      "cell_type": "markdown",
      "source": [
        "### **E1 Sample Output**\n",
        "The following is the sample output for E1 - Please just only check the output format, i.e. your output DO NOT need to be exactly the same, as long as you fullfill all the E1 requirements given above."
      ],
      "metadata": {
        "id": "xs10-S7N5W7X"
      }
    },
    {
      "cell_type": "markdown",
      "source": [
        "![sample_output.png](data:image/png;base64,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)"
      ],
      "metadata": {
        "id": "jPOnoUCh5eEY"
      }
    },
    {
      "cell_type": "markdown",
      "metadata": {
        "id": "YrjbuZYrXD88"
      },
      "source": [
        "# Extension"
      ]
    },
    {
      "cell_type": "markdown",
      "metadata": {
        "id": "8UWjBxLdTcEi"
      },
      "source": [
        "## Word Embedding Visual Inspector (WEVI)\n",
        "If you would like to visualise how Word2Vec is learning, the following link is useful https://ronxin.github.io/wevi/"
      ]
    }
  ],
  "metadata": {
    "accelerator": "GPU",
    "colab": {
      "provenance": [],
      "toc_visible": true
    },
    "gpuClass": "standard",
    "kernelspec": {
      "display_name": "Python 3",
      "name": "python3"
    }
  },
  "nbformat": 4,
  "nbformat_minor": 0
}