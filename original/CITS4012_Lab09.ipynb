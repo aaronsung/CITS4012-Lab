{
  "nbformat": 4,
  "nbformat_minor": 0,
  "metadata": {
    "kernelspec": {
      "display_name": "Python 3",
      "language": "python",
      "name": "python3"
    },
    "language_info": {
      "codemirror_mode": {
        "name": "ipython",
        "version": 3
      },
      "file_extension": ".py",
      "mimetype": "text/x-python",
      "name": "python",
      "nbconvert_exporter": "python",
      "pygments_lexer": "ipython3",
      "version": "3.6.8"
    },
    "colab": {
      "provenance": [],
      "collapsed_sections": [
        "F-_nsNvUTH27",
        "tS88ftfmeU3q",
        "Efvcf-U694_L",
        "X0ikKlISB10h"
      ],
      "toc_visible": true
    },
    "accelerator": "GPU"
  },
  "cells": [
    {
      "cell_type": "markdown",
      "source": [
        "#Lab09\n"
      ],
      "metadata": {
        "id": "fvnaBrvKl8Eh"
      }
    },
    {
      "cell_type": "markdown",
      "source": [
        "In this lab, we will introduce [ktrain](https://github.com/amaiya/ktrain), which is a lightweight python wrapper for the deep learning library - [Tensorflow Keras](https://www.tensorflow.org/api_docs/python/tf/keras) (and other libraries), to help build, train, and deploy neural networks and other machine learning models with few lines of code."
      ],
      "metadata": {
        "id": "0DPtpJfzLTfA"
      }
    },
    {
      "cell_type": "markdown",
      "source": [
        "# 1.Introduction to ktrain - Bert text classification model"
      ],
      "metadata": {
        "id": "hV37vfrKmY2r"
      }
    },
    {
      "cell_type": "markdown",
      "source": [
        "As is introduced in the lecture, there are variants of **pretrained models** which already learned and encoded some useful semantic patterns from the pretraining corpus based on the pretraining tasks. ktrain provides a range of pre-trained models that can be directly used. Let's first try to train a text classification model on top of the Bert using ktrain.\n",
        "\n"
      ],
      "metadata": {
        "id": "xmFfBrSp5hc9"
      }
    },
    {
      "cell_type": "markdown",
      "source": [
        "## Installing ktrain"
      ],
      "metadata": {
        "id": "F-_nsNvUTH27"
      }
    },
    {
      "cell_type": "markdown",
      "source": [
        "Install `transformers` and restart the session after the installation.\n",
        "\n",
        "*(No need to run this command again after restarting the session)*"
      ],
      "metadata": {
        "id": "7Wis5kGihTuL"
      }
    },
    {
      "cell_type": "code",
      "source": [
        "!pip install transformers==4.37.2"
      ],
      "metadata": {
        "colab": {
          "base_uri": "https://localhost:8080/",
          "height": 651
        },
        "id": "EOA395EXbOI_",
        "outputId": "5319448f-6bd9-4923-f613-1e118478810d"
      },
      "execution_count": null,
      "outputs": [
        {
          "output_type": "stream",
          "name": "stdout",
          "text": [
            "Collecting transformers==4.37.2\n",
            "  Downloading transformers-4.37.2-py3-none-any.whl (8.4 MB)\n",
            "\u001b[2K     \u001b[90m━━━━━━━━━━━━━━━━━━━━━━━━━━━━━━━━━━━━━━━━\u001b[0m \u001b[32m8.4/8.4 MB\u001b[0m \u001b[31m17.4 MB/s\u001b[0m eta \u001b[36m0:00:00\u001b[0m\n",
            "\u001b[?25hRequirement already satisfied: filelock in /usr/local/lib/python3.10/dist-packages (from transformers==4.37.2) (3.14.0)\n",
            "Requirement already satisfied: huggingface-hub<1.0,>=0.19.3 in /usr/local/lib/python3.10/dist-packages (from transformers==4.37.2) (0.20.3)\n",
            "Requirement already satisfied: numpy>=1.17 in /usr/local/lib/python3.10/dist-packages (from transformers==4.37.2) (1.25.2)\n",
            "Requirement already satisfied: packaging>=20.0 in /usr/local/lib/python3.10/dist-packages (from transformers==4.37.2) (24.0)\n",
            "Requirement already satisfied: pyyaml>=5.1 in /usr/local/lib/python3.10/dist-packages (from transformers==4.37.2) (6.0.1)\n",
            "Requirement already satisfied: regex!=2019.12.17 in /usr/local/lib/python3.10/dist-packages (from transformers==4.37.2) (2023.12.25)\n",
            "Requirement already satisfied: requests in /usr/local/lib/python3.10/dist-packages (from transformers==4.37.2) (2.31.0)\n",
            "Collecting tokenizers<0.19,>=0.14 (from transformers==4.37.2)\n",
            "  Downloading tokenizers-0.15.2-cp310-cp310-manylinux_2_17_x86_64.manylinux2014_x86_64.whl (3.6 MB)\n",
            "\u001b[2K     \u001b[90m━━━━━━━━━━━━━━━━━━━━━━━━━━━━━━━━━━━━━━━━\u001b[0m \u001b[32m3.6/3.6 MB\u001b[0m \u001b[31m53.8 MB/s\u001b[0m eta \u001b[36m0:00:00\u001b[0m\n",
            "\u001b[?25hRequirement already satisfied: safetensors>=0.4.1 in /usr/local/lib/python3.10/dist-packages (from transformers==4.37.2) (0.4.3)\n",
            "Requirement already satisfied: tqdm>=4.27 in /usr/local/lib/python3.10/dist-packages (from transformers==4.37.2) (4.66.2)\n",
            "Requirement already satisfied: fsspec>=2023.5.0 in /usr/local/lib/python3.10/dist-packages (from huggingface-hub<1.0,>=0.19.3->transformers==4.37.2) (2023.6.0)\n",
            "Requirement already satisfied: typing-extensions>=3.7.4.3 in /usr/local/lib/python3.10/dist-packages (from huggingface-hub<1.0,>=0.19.3->transformers==4.37.2) (4.11.0)\n",
            "Requirement already satisfied: charset-normalizer<4,>=2 in /usr/local/lib/python3.10/dist-packages (from requests->transformers==4.37.2) (3.3.2)\n",
            "Requirement already satisfied: idna<4,>=2.5 in /usr/local/lib/python3.10/dist-packages (from requests->transformers==4.37.2) (3.7)\n",
            "Requirement already satisfied: urllib3<3,>=1.21.1 in /usr/local/lib/python3.10/dist-packages (from requests->transformers==4.37.2) (2.0.7)\n",
            "Requirement already satisfied: certifi>=2017.4.17 in /usr/local/lib/python3.10/dist-packages (from requests->transformers==4.37.2) (2024.2.2)\n",
            "Installing collected packages: tokenizers, transformers\n",
            "  Attempting uninstall: tokenizers\n",
            "    Found existing installation: tokenizers 0.19.1\n",
            "    Uninstalling tokenizers-0.19.1:\n",
            "      Successfully uninstalled tokenizers-0.19.1\n",
            "  Attempting uninstall: transformers\n",
            "    Found existing installation: transformers 4.40.1\n",
            "    Uninstalling transformers-4.40.1:\n",
            "      Successfully uninstalled transformers-4.40.1\n",
            "Successfully installed tokenizers-0.15.2 transformers-4.37.2\n"
          ]
        },
        {
          "output_type": "display_data",
          "data": {
            "application/vnd.colab-display-data+json": {
              "pip_warning": {
                "packages": [
                  "transformers"
                ]
              },
              "id": "88642d251aae429ab214039ea1b54e20"
            }
          },
          "metadata": {}
        }
      ]
    },
    {
      "cell_type": "code",
      "source": [
        "import transformers\n",
        "transformers.__version__"
      ],
      "metadata": {
        "colab": {
          "base_uri": "https://localhost:8080/",
          "height": 35
        },
        "id": "D93dhq9cbEBZ",
        "outputId": "932d21e4-2180-4b11-d7cb-ceabdb2ed54b"
      },
      "execution_count": null,
      "outputs": [
        {
          "output_type": "execute_result",
          "data": {
            "text/plain": [
              "'4.37.2'"
            ],
            "application/vnd.google.colaboratory.intrinsic+json": {
              "type": "string"
            }
          },
          "metadata": {},
          "execution_count": 4
        }
      ]
    },
    {
      "cell_type": "markdown",
      "source": [
        "We can install `ktrain` directly using pip."
      ],
      "metadata": {
        "id": "ggLrfXPKecGc"
      }
    },
    {
      "cell_type": "code",
      "source": [
        "!pip install ktrain"
      ],
      "metadata": {
        "colab": {
          "base_uri": "https://localhost:8080/"
        },
        "id": "mcXFW_h7eNi6",
        "outputId": "fae3fa77-e121-431a-f102-55c45d396815"
      },
      "execution_count": null,
      "outputs": [
        {
          "output_type": "stream",
          "name": "stdout",
          "text": [
            "Requirement already satisfied: ktrain in /usr/local/lib/python3.10/dist-packages (0.41.3)\n",
            "Requirement already satisfied: scikit-learn in /usr/local/lib/python3.10/dist-packages (from ktrain) (1.2.2)\n",
            "Requirement already satisfied: matplotlib>=3.0.0 in /usr/local/lib/python3.10/dist-packages (from ktrain) (3.7.1)\n",
            "Requirement already satisfied: pandas>=1.0.1 in /usr/local/lib/python3.10/dist-packages (from ktrain) (2.0.3)\n",
            "Requirement already satisfied: fastprogress>=0.1.21 in /usr/local/lib/python3.10/dist-packages (from ktrain) (1.0.3)\n",
            "Requirement already satisfied: requests in /usr/local/lib/python3.10/dist-packages (from ktrain) (2.31.0)\n",
            "Requirement already satisfied: joblib in /usr/local/lib/python3.10/dist-packages (from ktrain) (1.4.0)\n",
            "Requirement already satisfied: packaging in /usr/local/lib/python3.10/dist-packages (from ktrain) (24.0)\n",
            "Requirement already satisfied: langdetect in /usr/local/lib/python3.10/dist-packages (from ktrain) (1.0.9)\n",
            "Requirement already satisfied: jieba in /usr/local/lib/python3.10/dist-packages (from ktrain) (0.42.1)\n",
            "Requirement already satisfied: charset-normalizer in /usr/local/lib/python3.10/dist-packages (from ktrain) (3.3.2)\n",
            "Requirement already satisfied: chardet in /usr/local/lib/python3.10/dist-packages (from ktrain) (5.2.0)\n",
            "Requirement already satisfied: syntok>1.3.3 in /usr/local/lib/python3.10/dist-packages (from ktrain) (1.4.4)\n",
            "Requirement already satisfied: tika in /usr/local/lib/python3.10/dist-packages (from ktrain) (2.6.0)\n",
            "Requirement already satisfied: transformers in /usr/local/lib/python3.10/dist-packages (from ktrain) (4.37.2)\n",
            "Requirement already satisfied: sentencepiece in /usr/local/lib/python3.10/dist-packages (from ktrain) (0.1.99)\n",
            "Requirement already satisfied: keras-bert>=0.86.0 in /usr/local/lib/python3.10/dist-packages (from ktrain) (0.89.0)\n",
            "Requirement already satisfied: whoosh in /usr/local/lib/python3.10/dist-packages (from ktrain) (2.7.4)\n",
            "Requirement already satisfied: numpy in /usr/local/lib/python3.10/dist-packages (from keras-bert>=0.86.0->ktrain) (1.25.2)\n",
            "Requirement already satisfied: keras-transformer==0.40.0 in /usr/local/lib/python3.10/dist-packages (from keras-bert>=0.86.0->ktrain) (0.40.0)\n",
            "Requirement already satisfied: keras-pos-embd==0.13.0 in /usr/local/lib/python3.10/dist-packages (from keras-transformer==0.40.0->keras-bert>=0.86.0->ktrain) (0.13.0)\n",
            "Requirement already satisfied: keras-multi-head==0.29.0 in /usr/local/lib/python3.10/dist-packages (from keras-transformer==0.40.0->keras-bert>=0.86.0->ktrain) (0.29.0)\n",
            "Requirement already satisfied: keras-layer-normalization==0.16.0 in /usr/local/lib/python3.10/dist-packages (from keras-transformer==0.40.0->keras-bert>=0.86.0->ktrain) (0.16.0)\n",
            "Requirement already satisfied: keras-position-wise-feed-forward==0.8.0 in /usr/local/lib/python3.10/dist-packages (from keras-transformer==0.40.0->keras-bert>=0.86.0->ktrain) (0.8.0)\n",
            "Requirement already satisfied: keras-embed-sim==0.10.0 in /usr/local/lib/python3.10/dist-packages (from keras-transformer==0.40.0->keras-bert>=0.86.0->ktrain) (0.10.0)\n",
            "Requirement already satisfied: keras-self-attention==0.51.0 in /usr/local/lib/python3.10/dist-packages (from keras-multi-head==0.29.0->keras-transformer==0.40.0->keras-bert>=0.86.0->ktrain) (0.51.0)\n",
            "Requirement already satisfied: contourpy>=1.0.1 in /usr/local/lib/python3.10/dist-packages (from matplotlib>=3.0.0->ktrain) (1.2.1)\n",
            "Requirement already satisfied: cycler>=0.10 in /usr/local/lib/python3.10/dist-packages (from matplotlib>=3.0.0->ktrain) (0.12.1)\n",
            "Requirement already satisfied: fonttools>=4.22.0 in /usr/local/lib/python3.10/dist-packages (from matplotlib>=3.0.0->ktrain) (4.51.0)\n",
            "Requirement already satisfied: kiwisolver>=1.0.1 in /usr/local/lib/python3.10/dist-packages (from matplotlib>=3.0.0->ktrain) (1.4.5)\n",
            "Requirement already satisfied: pillow>=6.2.0 in /usr/local/lib/python3.10/dist-packages (from matplotlib>=3.0.0->ktrain) (9.4.0)\n",
            "Requirement already satisfied: pyparsing>=2.3.1 in /usr/local/lib/python3.10/dist-packages (from matplotlib>=3.0.0->ktrain) (3.1.2)\n",
            "Requirement already satisfied: python-dateutil>=2.7 in /usr/local/lib/python3.10/dist-packages (from matplotlib>=3.0.0->ktrain) (2.8.2)\n",
            "Requirement already satisfied: pytz>=2020.1 in /usr/local/lib/python3.10/dist-packages (from pandas>=1.0.1->ktrain) (2023.4)\n",
            "Requirement already satisfied: tzdata>=2022.1 in /usr/local/lib/python3.10/dist-packages (from pandas>=1.0.1->ktrain) (2024.1)\n",
            "Requirement already satisfied: regex>2016 in /usr/local/lib/python3.10/dist-packages (from syntok>1.3.3->ktrain) (2023.12.25)\n",
            "Requirement already satisfied: six in /usr/local/lib/python3.10/dist-packages (from langdetect->ktrain) (1.16.0)\n",
            "Requirement already satisfied: idna<4,>=2.5 in /usr/local/lib/python3.10/dist-packages (from requests->ktrain) (3.7)\n",
            "Requirement already satisfied: urllib3<3,>=1.21.1 in /usr/local/lib/python3.10/dist-packages (from requests->ktrain) (2.0.7)\n",
            "Requirement already satisfied: certifi>=2017.4.17 in /usr/local/lib/python3.10/dist-packages (from requests->ktrain) (2024.2.2)\n",
            "Requirement already satisfied: scipy>=1.3.2 in /usr/local/lib/python3.10/dist-packages (from scikit-learn->ktrain) (1.11.4)\n",
            "Requirement already satisfied: threadpoolctl>=2.0.0 in /usr/local/lib/python3.10/dist-packages (from scikit-learn->ktrain) (3.5.0)\n",
            "Requirement already satisfied: setuptools in /usr/local/lib/python3.10/dist-packages (from tika->ktrain) (67.7.2)\n",
            "Requirement already satisfied: filelock in /usr/local/lib/python3.10/dist-packages (from transformers->ktrain) (3.14.0)\n",
            "Requirement already satisfied: huggingface-hub<1.0,>=0.19.3 in /usr/local/lib/python3.10/dist-packages (from transformers->ktrain) (0.20.3)\n",
            "Requirement already satisfied: pyyaml>=5.1 in /usr/local/lib/python3.10/dist-packages (from transformers->ktrain) (6.0.1)\n",
            "Requirement already satisfied: tokenizers<0.19,>=0.14 in /usr/local/lib/python3.10/dist-packages (from transformers->ktrain) (0.15.2)\n",
            "Requirement already satisfied: safetensors>=0.4.1 in /usr/local/lib/python3.10/dist-packages (from transformers->ktrain) (0.4.3)\n",
            "Requirement already satisfied: tqdm>=4.27 in /usr/local/lib/python3.10/dist-packages (from transformers->ktrain) (4.66.2)\n",
            "Requirement already satisfied: fsspec>=2023.5.0 in /usr/local/lib/python3.10/dist-packages (from huggingface-hub<1.0,>=0.19.3->transformers->ktrain) (2023.6.0)\n",
            "Requirement already satisfied: typing-extensions>=3.7.4.3 in /usr/local/lib/python3.10/dist-packages (from huggingface-hub<1.0,>=0.19.3->transformers->ktrain) (4.11.0)\n"
          ]
        }
      ]
    },
    {
      "cell_type": "markdown",
      "source": [
        "## Data preperation"
      ],
      "metadata": {
        "id": "rNlwCKETMEKl"
      }
    },
    {
      "cell_type": "markdown",
      "source": [
        "Let's use the 20ng news datasets loaded from sklearn in Lab 4."
      ],
      "metadata": {
        "id": "BO8zPKUmMK-Q"
      }
    },
    {
      "cell_type": "code",
      "source": [
        "from sklearn.datasets import fetch_20newsgroups # collect 5 classes (5 types of news data). Note that 20newsgroup dataset has 20 classes)\n",
        "categories = ['alt.atheism', 'soc.religion.christian','comp.graphics', 'sci.med', 'misc.forsale']\n",
        "twenty_train = fetch_20newsgroups(subset='train',categories=categories, shuffle=True, random_state=42)\n",
        "\n",
        "# Get the training set\n",
        "train_b = fetch_20newsgroups(subset='train',\n",
        "   categories=categories, shuffle=True, random_state=42)\n",
        "\n",
        "# Get the validation set\n",
        "test_b = fetch_20newsgroups(subset='test',\n",
        "   categories=categories, shuffle=True, random_state=42)\n",
        "\n",
        "x_train = train_b.data # Get the raw text\n",
        "y_train = train_b.target # Get the target/label indexes\n",
        "x_test = test_b.data\n",
        "y_test = test_b.target\n",
        "\n",
        "print('size of training set: %s' % (len(x_train)))\n",
        "print('size of validation set: %s' % (len(x_test)))\n",
        "print('classes: %s' % (train_b.target_names)) # get the target/label set (the order aligns with the target/label indexes above)\n"
      ],
      "metadata": {
        "colab": {
          "base_uri": "https://localhost:8080/"
        },
        "id": "YNfKgbLsl_Wb",
        "outputId": "83715cca-01fe-4181-8a55-2c65a6461f26"
      },
      "execution_count": null,
      "outputs": [
        {
          "output_type": "stream",
          "name": "stdout",
          "text": [
            "size of training set: 2842\n",
            "size of validation set: 1892\n",
            "classes: ['alt.atheism', 'comp.graphics', 'misc.forsale', 'sci.med', 'soc.religion.christian']\n"
          ]
        }
      ]
    },
    {
      "cell_type": "markdown",
      "source": [
        "## Easy data processing using Bert input format"
      ],
      "metadata": {
        "id": "tS88ftfmeU3q"
      }
    },
    {
      "cell_type": "markdown",
      "source": [
        "ktrain provides a range of tools for preprocessing various of data. We can easily prepare the data based on the Bert input format using the Bert tokenizer/preprocessor provided by ktrain."
      ],
      "metadata": {
        "id": "gb5BPVCBebPI"
      }
    },
    {
      "cell_type": "markdown",
      "source": [
        "Here, we use the [`texts_from_array()`](https://amaiya.github.io/ktrain/text/index.html#ktrain.text.texts_from_array) from ktrain.text, which loads and preprocesses text data from arrays (as we prepared the raw data as arrays already in the previous section). As can be seen that, all we need to do is to pass the parameters list as required:\n",
        "\n",
        "*   `x_train`: *list* of training texts\n",
        "*   `y_train`: *list* of target labels of training set\n",
        "*   `x_test`: *list* of test texts\n",
        "*   `y_test`: *list* of target labels of test set\n",
        "*   `class_names`: *list* of strings representing class labels (required when list of target labels above are indexes)\n",
        "*   `preprocess_mode`: *str*, either 'standard' for normal tokenization, or one of {'bert', 'distillbert'} tokenization and preprocessing for use with BERT/DistilBert model later.\n",
        "*   `maxlen`: *integer* specifying the max length allowed for each document/text   "
      ],
      "metadata": {
        "id": "X2P28CjJzvGp"
      }
    },
    {
      "cell_type": "code",
      "source": [
        "import ktrain\n",
        "from ktrain import text\n",
        "\n",
        "# The returned values:\n",
        "# x_train/x_test: preprocessed training/test text in forms of padded index sequences\n",
        "# y_train/y_test: one-hot encoded target labels of training/test set\n",
        "# preproc: a ktrain.text.TextProcessor instance, which is the preprocessor used for the current preprocessing, which can be used for building a model later (see the next section)\n",
        "(x_train,  y_train), (x_test, y_test), preproc = text.texts_from_array(x_train=x_train, y_train=y_train,\n",
        "                                                                       x_test=x_test, y_test=y_test,\n",
        "                                                                       class_names=train_b.target_names,\n",
        "                                                                       preprocess_mode='bert',\n",
        "                                                                       maxlen=350)"
      ],
      "metadata": {
        "id": "-SsIucy2ea6s",
        "colab": {
          "base_uri": "https://localhost:8080/",
          "height": 156
        },
        "outputId": "5a15894b-e470-4627-e035-1e8233bc08a4"
      },
      "execution_count": null,
      "outputs": [
        {
          "output_type": "stream",
          "name": "stdout",
          "text": [
            "preprocessing train...\n",
            "language: en\n"
          ]
        },
        {
          "output_type": "display_data",
          "data": {
            "text/plain": [
              "<IPython.core.display.HTML object>"
            ],
            "text/html": [
              "\n",
              "<style>\n",
              "    /* Turns off some styling */\n",
              "    progress {\n",
              "        /* gets rid of default border in Firefox and Opera. */\n",
              "        border: none;\n",
              "        /* Needs to be in here for Safari polyfill so background images work as expected. */\n",
              "        background-size: auto;\n",
              "    }\n",
              "    progress:not([value]), progress:not([value])::-webkit-progress-bar {\n",
              "        background: repeating-linear-gradient(45deg, #7e7e7e, #7e7e7e 10px, #5c5c5c 10px, #5c5c5c 20px);\n",
              "    }\n",
              "    .progress-bar-interrupted, .progress-bar-interrupted::-webkit-progress-bar {\n",
              "        background: #F44336;\n",
              "    }\n",
              "</style>\n"
            ]
          },
          "metadata": {}
        },
        {
          "output_type": "display_data",
          "data": {
            "text/plain": [
              "<IPython.core.display.HTML object>"
            ],
            "text/html": [
              "done."
            ]
          },
          "metadata": {}
        },
        {
          "output_type": "stream",
          "name": "stdout",
          "text": [
            "Is Multi-Label? False\n",
            "preprocessing test...\n",
            "language: en\n"
          ]
        },
        {
          "output_type": "display_data",
          "data": {
            "text/plain": [
              "<IPython.core.display.HTML object>"
            ],
            "text/html": [
              "\n",
              "<style>\n",
              "    /* Turns off some styling */\n",
              "    progress {\n",
              "        /* gets rid of default border in Firefox and Opera. */\n",
              "        border: none;\n",
              "        /* Needs to be in here for Safari polyfill so background images work as expected. */\n",
              "        background-size: auto;\n",
              "    }\n",
              "    progress:not([value]), progress:not([value])::-webkit-progress-bar {\n",
              "        background: repeating-linear-gradient(45deg, #7e7e7e, #7e7e7e 10px, #5c5c5c 10px, #5c5c5c 20px);\n",
              "    }\n",
              "    .progress-bar-interrupted, .progress-bar-interrupted::-webkit-progress-bar {\n",
              "        background: #F44336;\n",
              "    }\n",
              "</style>\n"
            ]
          },
          "metadata": {}
        },
        {
          "output_type": "display_data",
          "data": {
            "text/plain": [
              "<IPython.core.display.HTML object>"
            ],
            "text/html": [
              "done."
            ]
          },
          "metadata": {}
        },
        {
          "output_type": "stream",
          "name": "stdout",
          "text": [
            "task: text classification\n"
          ]
        }
      ]
    },
    {
      "cell_type": "markdown",
      "source": [
        "Easy with one line of code right? Alternatively, it is also possible to load data in other format instead of arrays, such as csv ([texts_from_csv()](https://amaiya.github.io/ktrain/text/index.html#ktrain.text.texts_from_csv), pandas dataframe ([texts_from_df()](https://amaiya.github.io/ktrain/text/index.html#ktrain.text.texts_from_df)) or read from a data folder ([texts_from_folder()](https://amaiya.github.io/ktrain/text/index.html#ktrain.text.texts_from_folder))."
      ],
      "metadata": {
        "id": "2SqvYEpq354Q"
      }
    },
    {
      "cell_type": "markdown",
      "source": [
        "## Model building"
      ],
      "metadata": {
        "id": "Efvcf-U694_L"
      }
    },
    {
      "cell_type": "markdown",
      "source": [
        "Just like the data preprocessing, we can also build neural networks easily with ktrain. The one-line code below build the Bert text classification model, by calling the [text.text_classifier()](https://amaiya.github.io/ktrain/text/index.html#ktrain.text.text_classifier) and specifying the model name as 'bert'. The parameters here we are passing are:\n",
        "\n",
        "\n",
        "*   `name`: *str*, specifying one of the models available from ktrain, such as 'bert' for BERT text classification, 'distillbert' for DistilBert model, 'bigru' for Bidirectional GRU with pretrained vectors etc.\n",
        "*   `train_data`: *tuple* of (x_train, y_train)\n",
        "*   `preproc`: a *ktrain.text.TextProcessor* instance\n",
        "\n"
      ],
      "metadata": {
        "id": "VzC_3C0t-Bjq"
      }
    },
    {
      "cell_type": "code",
      "source": [
        "# This returns us a Keras Model instance\n",
        "model = text.text_classifier(name = 'bert', train_data=(x_train, y_train), preproc=preproc)"
      ],
      "metadata": {
        "colab": {
          "base_uri": "https://localhost:8080/"
        },
        "id": "3jVgQOQ99-yB",
        "outputId": "ea065e6a-14e1-4171-a4fc-3e0ee7fb9f85"
      },
      "execution_count": null,
      "outputs": [
        {
          "output_type": "stream",
          "name": "stdout",
          "text": [
            "Is Multi-Label? False\n",
            "maxlen is 350\n"
          ]
        },
        {
          "output_type": "stream",
          "name": "stderr",
          "text": [
            "/usr/local/lib/python3.10/dist-packages/keras/src/initializers/initializers.py:120: UserWarning: The initializer GlorotNormal is unseeded and being called multiple times, which will return identical values each time (even if the initializer is unseeded). Please update your code to provide a seed to the initializer, or avoid using the same initializer instance more than once.\n",
            "  warnings.warn(\n"
          ]
        },
        {
          "output_type": "stream",
          "name": "stdout",
          "text": [
            "done.\n"
          ]
        }
      ]
    },
    {
      "cell_type": "code",
      "source": [
        "# We can see a model structure summary by calling the .summary()\n",
        "model.summary()"
      ],
      "metadata": {
        "colab": {
          "base_uri": "https://localhost:8080/"
        },
        "id": "-GFutYujB2XV",
        "outputId": "f07e7510-56e9-4ce3-e0cb-e8afc15fe24c"
      },
      "execution_count": null,
      "outputs": [
        {
          "output_type": "stream",
          "name": "stdout",
          "text": [
            "Model: \"model_1\"\n",
            "__________________________________________________________________________________________________\n",
            " Layer (type)                Output Shape                 Param #   Connected to                  \n",
            "==================================================================================================\n",
            " Input-Token (InputLayer)    [(None, 350)]                0         []                            \n",
            "                                                                                                  \n",
            " Input-Segment (InputLayer)  [(None, 350)]                0         []                            \n",
            "                                                                                                  \n",
            " Embedding-Token (TokenEmbe  [(None, 350, 768),           2344089   ['Input-Token[0][0]']         \n",
            " dding)                       (30522, 768)]               6                                       \n",
            "                                                                                                  \n",
            " Embedding-Segment (Embeddi  (None, 350, 768)             1536      ['Input-Segment[0][0]']       \n",
            " ng)                                                                                              \n",
            "                                                                                                  \n",
            " Embedding-Token-Segment (A  (None, 350, 768)             0         ['Embedding-Token[0][0]',     \n",
            " dd)                                                                 'Embedding-Segment[0][0]']   \n",
            "                                                                                                  \n",
            " Embedding-Position (Positi  (None, 350, 768)             268800    ['Embedding-Token-Segment[0][0\n",
            " onEmbedding)                                                       ]']                           \n",
            "                                                                                                  \n",
            " Embedding-Dropout (Dropout  (None, 350, 768)             0         ['Embedding-Position[0][0]']  \n",
            " )                                                                                                \n",
            "                                                                                                  \n",
            " Embedding-Norm (LayerNorma  (None, 350, 768)             1536      ['Embedding-Dropout[0][0]']   \n",
            " lization)                                                                                        \n",
            "                                                                                                  \n",
            " Encoder-1-MultiHeadSelfAtt  (None, 350, 768)             2362368   ['Embedding-Norm[0][0]']      \n",
            " ention (MultiHeadAttention                                                                       \n",
            " )                                                                                                \n",
            "                                                                                                  \n",
            " Encoder-1-MultiHeadSelfAtt  (None, 350, 768)             0         ['Encoder-1-MultiHeadSelfAtten\n",
            " ention-Dropout (Dropout)                                           tion[0][0]']                  \n",
            "                                                                                                  \n",
            " Encoder-1-MultiHeadSelfAtt  (None, 350, 768)             0         ['Embedding-Norm[0][0]',      \n",
            " ention-Add (Add)                                                    'Encoder-1-MultiHeadSelfAtten\n",
            "                                                                    tion-Dropout[0][0]']          \n",
            "                                                                                                  \n",
            " Encoder-1-MultiHeadSelfAtt  (None, 350, 768)             1536      ['Encoder-1-MultiHeadSelfAtten\n",
            " ention-Norm (LayerNormaliz                                         tion-Add[0][0]']              \n",
            " ation)                                                                                           \n",
            "                                                                                                  \n",
            " Encoder-1-FeedForward (Fee  (None, 350, 768)             4722432   ['Encoder-1-MultiHeadSelfAtten\n",
            " dForward)                                                          tion-Norm[0][0]']             \n",
            "                                                                                                  \n",
            " Encoder-1-FeedForward-Drop  (None, 350, 768)             0         ['Encoder-1-FeedForward[0][0]'\n",
            " out (Dropout)                                                      ]                             \n",
            "                                                                                                  \n",
            " Encoder-1-FeedForward-Add   (None, 350, 768)             0         ['Encoder-1-MultiHeadSelfAtten\n",
            " (Add)                                                              tion-Norm[0][0]',             \n",
            "                                                                     'Encoder-1-FeedForward-Dropou\n",
            "                                                                    t[0][0]']                     \n",
            "                                                                                                  \n",
            " Encoder-1-FeedForward-Norm  (None, 350, 768)             1536      ['Encoder-1-FeedForward-Add[0]\n",
            "  (LayerNormalization)                                              [0]']                         \n",
            "                                                                                                  \n",
            " Encoder-2-MultiHeadSelfAtt  (None, 350, 768)             2362368   ['Encoder-1-FeedForward-Norm[0\n",
            " ention (MultiHeadAttention                                         ][0]']                        \n",
            " )                                                                                                \n",
            "                                                                                                  \n",
            " Encoder-2-MultiHeadSelfAtt  (None, 350, 768)             0         ['Encoder-2-MultiHeadSelfAtten\n",
            " ention-Dropout (Dropout)                                           tion[0][0]']                  \n",
            "                                                                                                  \n",
            " Encoder-2-MultiHeadSelfAtt  (None, 350, 768)             0         ['Encoder-1-FeedForward-Norm[0\n",
            " ention-Add (Add)                                                   ][0]',                        \n",
            "                                                                     'Encoder-2-MultiHeadSelfAtten\n",
            "                                                                    tion-Dropout[0][0]']          \n",
            "                                                                                                  \n",
            " Encoder-2-MultiHeadSelfAtt  (None, 350, 768)             1536      ['Encoder-2-MultiHeadSelfAtten\n",
            " ention-Norm (LayerNormaliz                                         tion-Add[0][0]']              \n",
            " ation)                                                                                           \n",
            "                                                                                                  \n",
            " Encoder-2-FeedForward (Fee  (None, 350, 768)             4722432   ['Encoder-2-MultiHeadSelfAtten\n",
            " dForward)                                                          tion-Norm[0][0]']             \n",
            "                                                                                                  \n",
            " Encoder-2-FeedForward-Drop  (None, 350, 768)             0         ['Encoder-2-FeedForward[0][0]'\n",
            " out (Dropout)                                                      ]                             \n",
            "                                                                                                  \n",
            " Encoder-2-FeedForward-Add   (None, 350, 768)             0         ['Encoder-2-MultiHeadSelfAtten\n",
            " (Add)                                                              tion-Norm[0][0]',             \n",
            "                                                                     'Encoder-2-FeedForward-Dropou\n",
            "                                                                    t[0][0]']                     \n",
            "                                                                                                  \n",
            " Encoder-2-FeedForward-Norm  (None, 350, 768)             1536      ['Encoder-2-FeedForward-Add[0]\n",
            "  (LayerNormalization)                                              [0]']                         \n",
            "                                                                                                  \n",
            " Encoder-3-MultiHeadSelfAtt  (None, 350, 768)             2362368   ['Encoder-2-FeedForward-Norm[0\n",
            " ention (MultiHeadAttention                                         ][0]']                        \n",
            " )                                                                                                \n",
            "                                                                                                  \n",
            " Encoder-3-MultiHeadSelfAtt  (None, 350, 768)             0         ['Encoder-3-MultiHeadSelfAtten\n",
            " ention-Dropout (Dropout)                                           tion[0][0]']                  \n",
            "                                                                                                  \n",
            " Encoder-3-MultiHeadSelfAtt  (None, 350, 768)             0         ['Encoder-2-FeedForward-Norm[0\n",
            " ention-Add (Add)                                                   ][0]',                        \n",
            "                                                                     'Encoder-3-MultiHeadSelfAtten\n",
            "                                                                    tion-Dropout[0][0]']          \n",
            "                                                                                                  \n",
            " Encoder-3-MultiHeadSelfAtt  (None, 350, 768)             1536      ['Encoder-3-MultiHeadSelfAtten\n",
            " ention-Norm (LayerNormaliz                                         tion-Add[0][0]']              \n",
            " ation)                                                                                           \n",
            "                                                                                                  \n",
            " Encoder-3-FeedForward (Fee  (None, 350, 768)             4722432   ['Encoder-3-MultiHeadSelfAtten\n",
            " dForward)                                                          tion-Norm[0][0]']             \n",
            "                                                                                                  \n",
            " Encoder-3-FeedForward-Drop  (None, 350, 768)             0         ['Encoder-3-FeedForward[0][0]'\n",
            " out (Dropout)                                                      ]                             \n",
            "                                                                                                  \n",
            " Encoder-3-FeedForward-Add   (None, 350, 768)             0         ['Encoder-3-MultiHeadSelfAtten\n",
            " (Add)                                                              tion-Norm[0][0]',             \n",
            "                                                                     'Encoder-3-FeedForward-Dropou\n",
            "                                                                    t[0][0]']                     \n",
            "                                                                                                  \n",
            " Encoder-3-FeedForward-Norm  (None, 350, 768)             1536      ['Encoder-3-FeedForward-Add[0]\n",
            "  (LayerNormalization)                                              [0]']                         \n",
            "                                                                                                  \n",
            " Encoder-4-MultiHeadSelfAtt  (None, 350, 768)             2362368   ['Encoder-3-FeedForward-Norm[0\n",
            " ention (MultiHeadAttention                                         ][0]']                        \n",
            " )                                                                                                \n",
            "                                                                                                  \n",
            " Encoder-4-MultiHeadSelfAtt  (None, 350, 768)             0         ['Encoder-4-MultiHeadSelfAtten\n",
            " ention-Dropout (Dropout)                                           tion[0][0]']                  \n",
            "                                                                                                  \n",
            " Encoder-4-MultiHeadSelfAtt  (None, 350, 768)             0         ['Encoder-3-FeedForward-Norm[0\n",
            " ention-Add (Add)                                                   ][0]',                        \n",
            "                                                                     'Encoder-4-MultiHeadSelfAtten\n",
            "                                                                    tion-Dropout[0][0]']          \n",
            "                                                                                                  \n",
            " Encoder-4-MultiHeadSelfAtt  (None, 350, 768)             1536      ['Encoder-4-MultiHeadSelfAtten\n",
            " ention-Norm (LayerNormaliz                                         tion-Add[0][0]']              \n",
            " ation)                                                                                           \n",
            "                                                                                                  \n",
            " Encoder-4-FeedForward (Fee  (None, 350, 768)             4722432   ['Encoder-4-MultiHeadSelfAtten\n",
            " dForward)                                                          tion-Norm[0][0]']             \n",
            "                                                                                                  \n",
            " Encoder-4-FeedForward-Drop  (None, 350, 768)             0         ['Encoder-4-FeedForward[0][0]'\n",
            " out (Dropout)                                                      ]                             \n",
            "                                                                                                  \n",
            " Encoder-4-FeedForward-Add   (None, 350, 768)             0         ['Encoder-4-MultiHeadSelfAtten\n",
            " (Add)                                                              tion-Norm[0][0]',             \n",
            "                                                                     'Encoder-4-FeedForward-Dropou\n",
            "                                                                    t[0][0]']                     \n",
            "                                                                                                  \n",
            " Encoder-4-FeedForward-Norm  (None, 350, 768)             1536      ['Encoder-4-FeedForward-Add[0]\n",
            "  (LayerNormalization)                                              [0]']                         \n",
            "                                                                                                  \n",
            " Encoder-5-MultiHeadSelfAtt  (None, 350, 768)             2362368   ['Encoder-4-FeedForward-Norm[0\n",
            " ention (MultiHeadAttention                                         ][0]']                        \n",
            " )                                                                                                \n",
            "                                                                                                  \n",
            " Encoder-5-MultiHeadSelfAtt  (None, 350, 768)             0         ['Encoder-5-MultiHeadSelfAtten\n",
            " ention-Dropout (Dropout)                                           tion[0][0]']                  \n",
            "                                                                                                  \n",
            " Encoder-5-MultiHeadSelfAtt  (None, 350, 768)             0         ['Encoder-4-FeedForward-Norm[0\n",
            " ention-Add (Add)                                                   ][0]',                        \n",
            "                                                                     'Encoder-5-MultiHeadSelfAtten\n",
            "                                                                    tion-Dropout[0][0]']          \n",
            "                                                                                                  \n",
            " Encoder-5-MultiHeadSelfAtt  (None, 350, 768)             1536      ['Encoder-5-MultiHeadSelfAtten\n",
            " ention-Norm (LayerNormaliz                                         tion-Add[0][0]']              \n",
            " ation)                                                                                           \n",
            "                                                                                                  \n",
            " Encoder-5-FeedForward (Fee  (None, 350, 768)             4722432   ['Encoder-5-MultiHeadSelfAtten\n",
            " dForward)                                                          tion-Norm[0][0]']             \n",
            "                                                                                                  \n",
            " Encoder-5-FeedForward-Drop  (None, 350, 768)             0         ['Encoder-5-FeedForward[0][0]'\n",
            " out (Dropout)                                                      ]                             \n",
            "                                                                                                  \n",
            " Encoder-5-FeedForward-Add   (None, 350, 768)             0         ['Encoder-5-MultiHeadSelfAtten\n",
            " (Add)                                                              tion-Norm[0][0]',             \n",
            "                                                                     'Encoder-5-FeedForward-Dropou\n",
            "                                                                    t[0][0]']                     \n",
            "                                                                                                  \n",
            " Encoder-5-FeedForward-Norm  (None, 350, 768)             1536      ['Encoder-5-FeedForward-Add[0]\n",
            "  (LayerNormalization)                                              [0]']                         \n",
            "                                                                                                  \n",
            " Encoder-6-MultiHeadSelfAtt  (None, 350, 768)             2362368   ['Encoder-5-FeedForward-Norm[0\n",
            " ention (MultiHeadAttention                                         ][0]']                        \n",
            " )                                                                                                \n",
            "                                                                                                  \n",
            " Encoder-6-MultiHeadSelfAtt  (None, 350, 768)             0         ['Encoder-6-MultiHeadSelfAtten\n",
            " ention-Dropout (Dropout)                                           tion[0][0]']                  \n",
            "                                                                                                  \n",
            " Encoder-6-MultiHeadSelfAtt  (None, 350, 768)             0         ['Encoder-5-FeedForward-Norm[0\n",
            " ention-Add (Add)                                                   ][0]',                        \n",
            "                                                                     'Encoder-6-MultiHeadSelfAtten\n",
            "                                                                    tion-Dropout[0][0]']          \n",
            "                                                                                                  \n",
            " Encoder-6-MultiHeadSelfAtt  (None, 350, 768)             1536      ['Encoder-6-MultiHeadSelfAtten\n",
            " ention-Norm (LayerNormaliz                                         tion-Add[0][0]']              \n",
            " ation)                                                                                           \n",
            "                                                                                                  \n",
            " Encoder-6-FeedForward (Fee  (None, 350, 768)             4722432   ['Encoder-6-MultiHeadSelfAtten\n",
            " dForward)                                                          tion-Norm[0][0]']             \n",
            "                                                                                                  \n",
            " Encoder-6-FeedForward-Drop  (None, 350, 768)             0         ['Encoder-6-FeedForward[0][0]'\n",
            " out (Dropout)                                                      ]                             \n",
            "                                                                                                  \n",
            " Encoder-6-FeedForward-Add   (None, 350, 768)             0         ['Encoder-6-MultiHeadSelfAtten\n",
            " (Add)                                                              tion-Norm[0][0]',             \n",
            "                                                                     'Encoder-6-FeedForward-Dropou\n",
            "                                                                    t[0][0]']                     \n",
            "                                                                                                  \n",
            " Encoder-6-FeedForward-Norm  (None, 350, 768)             1536      ['Encoder-6-FeedForward-Add[0]\n",
            "  (LayerNormalization)                                              [0]']                         \n",
            "                                                                                                  \n",
            " Encoder-7-MultiHeadSelfAtt  (None, 350, 768)             2362368   ['Encoder-6-FeedForward-Norm[0\n",
            " ention (MultiHeadAttention                                         ][0]']                        \n",
            " )                                                                                                \n",
            "                                                                                                  \n",
            " Encoder-7-MultiHeadSelfAtt  (None, 350, 768)             0         ['Encoder-7-MultiHeadSelfAtten\n",
            " ention-Dropout (Dropout)                                           tion[0][0]']                  \n",
            "                                                                                                  \n",
            " Encoder-7-MultiHeadSelfAtt  (None, 350, 768)             0         ['Encoder-6-FeedForward-Norm[0\n",
            " ention-Add (Add)                                                   ][0]',                        \n",
            "                                                                     'Encoder-7-MultiHeadSelfAtten\n",
            "                                                                    tion-Dropout[0][0]']          \n",
            "                                                                                                  \n",
            " Encoder-7-MultiHeadSelfAtt  (None, 350, 768)             1536      ['Encoder-7-MultiHeadSelfAtten\n",
            " ention-Norm (LayerNormaliz                                         tion-Add[0][0]']              \n",
            " ation)                                                                                           \n",
            "                                                                                                  \n",
            " Encoder-7-FeedForward (Fee  (None, 350, 768)             4722432   ['Encoder-7-MultiHeadSelfAtten\n",
            " dForward)                                                          tion-Norm[0][0]']             \n",
            "                                                                                                  \n",
            " Encoder-7-FeedForward-Drop  (None, 350, 768)             0         ['Encoder-7-FeedForward[0][0]'\n",
            " out (Dropout)                                                      ]                             \n",
            "                                                                                                  \n",
            " Encoder-7-FeedForward-Add   (None, 350, 768)             0         ['Encoder-7-MultiHeadSelfAtten\n",
            " (Add)                                                              tion-Norm[0][0]',             \n",
            "                                                                     'Encoder-7-FeedForward-Dropou\n",
            "                                                                    t[0][0]']                     \n",
            "                                                                                                  \n",
            " Encoder-7-FeedForward-Norm  (None, 350, 768)             1536      ['Encoder-7-FeedForward-Add[0]\n",
            "  (LayerNormalization)                                              [0]']                         \n",
            "                                                                                                  \n",
            " Encoder-8-MultiHeadSelfAtt  (None, 350, 768)             2362368   ['Encoder-7-FeedForward-Norm[0\n",
            " ention (MultiHeadAttention                                         ][0]']                        \n",
            " )                                                                                                \n",
            "                                                                                                  \n",
            " Encoder-8-MultiHeadSelfAtt  (None, 350, 768)             0         ['Encoder-8-MultiHeadSelfAtten\n",
            " ention-Dropout (Dropout)                                           tion[0][0]']                  \n",
            "                                                                                                  \n",
            " Encoder-8-MultiHeadSelfAtt  (None, 350, 768)             0         ['Encoder-7-FeedForward-Norm[0\n",
            " ention-Add (Add)                                                   ][0]',                        \n",
            "                                                                     'Encoder-8-MultiHeadSelfAtten\n",
            "                                                                    tion-Dropout[0][0]']          \n",
            "                                                                                                  \n",
            " Encoder-8-MultiHeadSelfAtt  (None, 350, 768)             1536      ['Encoder-8-MultiHeadSelfAtten\n",
            " ention-Norm (LayerNormaliz                                         tion-Add[0][0]']              \n",
            " ation)                                                                                           \n",
            "                                                                                                  \n",
            " Encoder-8-FeedForward (Fee  (None, 350, 768)             4722432   ['Encoder-8-MultiHeadSelfAtten\n",
            " dForward)                                                          tion-Norm[0][0]']             \n",
            "                                                                                                  \n",
            " Encoder-8-FeedForward-Drop  (None, 350, 768)             0         ['Encoder-8-FeedForward[0][0]'\n",
            " out (Dropout)                                                      ]                             \n",
            "                                                                                                  \n",
            " Encoder-8-FeedForward-Add   (None, 350, 768)             0         ['Encoder-8-MultiHeadSelfAtten\n",
            " (Add)                                                              tion-Norm[0][0]',             \n",
            "                                                                     'Encoder-8-FeedForward-Dropou\n",
            "                                                                    t[0][0]']                     \n",
            "                                                                                                  \n",
            " Encoder-8-FeedForward-Norm  (None, 350, 768)             1536      ['Encoder-8-FeedForward-Add[0]\n",
            "  (LayerNormalization)                                              [0]']                         \n",
            "                                                                                                  \n",
            " Encoder-9-MultiHeadSelfAtt  (None, 350, 768)             2362368   ['Encoder-8-FeedForward-Norm[0\n",
            " ention (MultiHeadAttention                                         ][0]']                        \n",
            " )                                                                                                \n",
            "                                                                                                  \n",
            " Encoder-9-MultiHeadSelfAtt  (None, 350, 768)             0         ['Encoder-9-MultiHeadSelfAtten\n",
            " ention-Dropout (Dropout)                                           tion[0][0]']                  \n",
            "                                                                                                  \n",
            " Encoder-9-MultiHeadSelfAtt  (None, 350, 768)             0         ['Encoder-8-FeedForward-Norm[0\n",
            " ention-Add (Add)                                                   ][0]',                        \n",
            "                                                                     'Encoder-9-MultiHeadSelfAtten\n",
            "                                                                    tion-Dropout[0][0]']          \n",
            "                                                                                                  \n",
            " Encoder-9-MultiHeadSelfAtt  (None, 350, 768)             1536      ['Encoder-9-MultiHeadSelfAtten\n",
            " ention-Norm (LayerNormaliz                                         tion-Add[0][0]']              \n",
            " ation)                                                                                           \n",
            "                                                                                                  \n",
            " Encoder-9-FeedForward (Fee  (None, 350, 768)             4722432   ['Encoder-9-MultiHeadSelfAtten\n",
            " dForward)                                                          tion-Norm[0][0]']             \n",
            "                                                                                                  \n",
            " Encoder-9-FeedForward-Drop  (None, 350, 768)             0         ['Encoder-9-FeedForward[0][0]'\n",
            " out (Dropout)                                                      ]                             \n",
            "                                                                                                  \n",
            " Encoder-9-FeedForward-Add   (None, 350, 768)             0         ['Encoder-9-MultiHeadSelfAtten\n",
            " (Add)                                                              tion-Norm[0][0]',             \n",
            "                                                                     'Encoder-9-FeedForward-Dropou\n",
            "                                                                    t[0][0]']                     \n",
            "                                                                                                  \n",
            " Encoder-9-FeedForward-Norm  (None, 350, 768)             1536      ['Encoder-9-FeedForward-Add[0]\n",
            "  (LayerNormalization)                                              [0]']                         \n",
            "                                                                                                  \n",
            " Encoder-10-MultiHeadSelfAt  (None, 350, 768)             2362368   ['Encoder-9-FeedForward-Norm[0\n",
            " tention (MultiHeadAttentio                                         ][0]']                        \n",
            " n)                                                                                               \n",
            "                                                                                                  \n",
            " Encoder-10-MultiHeadSelfAt  (None, 350, 768)             0         ['Encoder-10-MultiHeadSelfAtte\n",
            " tention-Dropout (Dropout)                                          ntion[0][0]']                 \n",
            "                                                                                                  \n",
            " Encoder-10-MultiHeadSelfAt  (None, 350, 768)             0         ['Encoder-9-FeedForward-Norm[0\n",
            " tention-Add (Add)                                                  ][0]',                        \n",
            "                                                                     'Encoder-10-MultiHeadSelfAtte\n",
            "                                                                    ntion-Dropout[0][0]']         \n",
            "                                                                                                  \n",
            " Encoder-10-MultiHeadSelfAt  (None, 350, 768)             1536      ['Encoder-10-MultiHeadSelfAtte\n",
            " tention-Norm (LayerNormali                                         ntion-Add[0][0]']             \n",
            " zation)                                                                                          \n",
            "                                                                                                  \n",
            " Encoder-10-FeedForward (Fe  (None, 350, 768)             4722432   ['Encoder-10-MultiHeadSelfAtte\n",
            " edForward)                                                         ntion-Norm[0][0]']            \n",
            "                                                                                                  \n",
            " Encoder-10-FeedForward-Dro  (None, 350, 768)             0         ['Encoder-10-FeedForward[0][0]\n",
            " pout (Dropout)                                                     ']                            \n",
            "                                                                                                  \n",
            " Encoder-10-FeedForward-Add  (None, 350, 768)             0         ['Encoder-10-MultiHeadSelfAtte\n",
            "  (Add)                                                             ntion-Norm[0][0]',            \n",
            "                                                                     'Encoder-10-FeedForward-Dropo\n",
            "                                                                    ut[0][0]']                    \n",
            "                                                                                                  \n",
            " Encoder-10-FeedForward-Nor  (None, 350, 768)             1536      ['Encoder-10-FeedForward-Add[0\n",
            " m (LayerNormalization)                                             ][0]']                        \n",
            "                                                                                                  \n",
            " Encoder-11-MultiHeadSelfAt  (None, 350, 768)             2362368   ['Encoder-10-FeedForward-Norm[\n",
            " tention (MultiHeadAttentio                                         0][0]']                       \n",
            " n)                                                                                               \n",
            "                                                                                                  \n",
            " Encoder-11-MultiHeadSelfAt  (None, 350, 768)             0         ['Encoder-11-MultiHeadSelfAtte\n",
            " tention-Dropout (Dropout)                                          ntion[0][0]']                 \n",
            "                                                                                                  \n",
            " Encoder-11-MultiHeadSelfAt  (None, 350, 768)             0         ['Encoder-10-FeedForward-Norm[\n",
            " tention-Add (Add)                                                  0][0]',                       \n",
            "                                                                     'Encoder-11-MultiHeadSelfAtte\n",
            "                                                                    ntion-Dropout[0][0]']         \n",
            "                                                                                                  \n",
            " Encoder-11-MultiHeadSelfAt  (None, 350, 768)             1536      ['Encoder-11-MultiHeadSelfAtte\n",
            " tention-Norm (LayerNormali                                         ntion-Add[0][0]']             \n",
            " zation)                                                                                          \n",
            "                                                                                                  \n",
            " Encoder-11-FeedForward (Fe  (None, 350, 768)             4722432   ['Encoder-11-MultiHeadSelfAtte\n",
            " edForward)                                                         ntion-Norm[0][0]']            \n",
            "                                                                                                  \n",
            " Encoder-11-FeedForward-Dro  (None, 350, 768)             0         ['Encoder-11-FeedForward[0][0]\n",
            " pout (Dropout)                                                     ']                            \n",
            "                                                                                                  \n",
            " Encoder-11-FeedForward-Add  (None, 350, 768)             0         ['Encoder-11-MultiHeadSelfAtte\n",
            "  (Add)                                                             ntion-Norm[0][0]',            \n",
            "                                                                     'Encoder-11-FeedForward-Dropo\n",
            "                                                                    ut[0][0]']                    \n",
            "                                                                                                  \n",
            " Encoder-11-FeedForward-Nor  (None, 350, 768)             1536      ['Encoder-11-FeedForward-Add[0\n",
            " m (LayerNormalization)                                             ][0]']                        \n",
            "                                                                                                  \n",
            " Encoder-12-MultiHeadSelfAt  (None, 350, 768)             2362368   ['Encoder-11-FeedForward-Norm[\n",
            " tention (MultiHeadAttentio                                         0][0]']                       \n",
            " n)                                                                                               \n",
            "                                                                                                  \n",
            " Encoder-12-MultiHeadSelfAt  (None, 350, 768)             0         ['Encoder-12-MultiHeadSelfAtte\n",
            " tention-Dropout (Dropout)                                          ntion[0][0]']                 \n",
            "                                                                                                  \n",
            " Encoder-12-MultiHeadSelfAt  (None, 350, 768)             0         ['Encoder-11-FeedForward-Norm[\n",
            " tention-Add (Add)                                                  0][0]',                       \n",
            "                                                                     'Encoder-12-MultiHeadSelfAtte\n",
            "                                                                    ntion-Dropout[0][0]']         \n",
            "                                                                                                  \n",
            " Encoder-12-MultiHeadSelfAt  (None, 350, 768)             1536      ['Encoder-12-MultiHeadSelfAtte\n",
            " tention-Norm (LayerNormali                                         ntion-Add[0][0]']             \n",
            " zation)                                                                                          \n",
            "                                                                                                  \n",
            " Encoder-12-FeedForward (Fe  (None, 350, 768)             4722432   ['Encoder-12-MultiHeadSelfAtte\n",
            " edForward)                                                         ntion-Norm[0][0]']            \n",
            "                                                                                                  \n",
            " Encoder-12-FeedForward-Dro  (None, 350, 768)             0         ['Encoder-12-FeedForward[0][0]\n",
            " pout (Dropout)                                                     ']                            \n",
            "                                                                                                  \n",
            " Encoder-12-FeedForward-Add  (None, 350, 768)             0         ['Encoder-12-MultiHeadSelfAtte\n",
            "  (Add)                                                             ntion-Norm[0][0]',            \n",
            "                                                                     'Encoder-12-FeedForward-Dropo\n",
            "                                                                    ut[0][0]']                    \n",
            "                                                                                                  \n",
            " Encoder-12-FeedForward-Nor  (None, 350, 768)             1536      ['Encoder-12-FeedForward-Add[0\n",
            " m (LayerNormalization)                                             ][0]']                        \n",
            "                                                                                                  \n",
            " Extract (Extract)           (None, 768)                  0         ['Encoder-12-FeedForward-Norm[\n",
            "                                                                    0][0]']                       \n",
            "                                                                                                  \n",
            " NSP-Dense (Dense)           (None, 768)                  590592    ['Extract[0][0]']             \n",
            "                                                                                                  \n",
            " dense (Dense)               (None, 5)                    3845      ['NSP-Dense[0][0]']           \n",
            "                                                                                                  \n",
            "==================================================================================================\n",
            "Total params: 109361669 (417.18 MB)\n",
            "Trainable params: 109361669 (417.18 MB)\n",
            "Non-trainable params: 0 (0.00 Byte)\n",
            "__________________________________________________________________________________________________\n"
          ]
        }
      ]
    },
    {
      "cell_type": "markdown",
      "source": [
        "## Model training"
      ],
      "metadata": {
        "id": "X0ikKlISB10h"
      }
    },
    {
      "cell_type": "markdown",
      "source": [
        "Once we've built the Bert text classification model (Keras Model), we can then train it with the ktrain Learner, which allows us to tune and train the Keras models. To do so, we can create a ktrain Learner by calling the [get_learner()](https://amaiya.github.io/ktrain/#ktrain.get_learner):\n",
        "\n",
        "\n",
        "\n",
        "*   `model`: the keras model\n",
        "*   `train_data`/`val_data`: either a *tuple* or *generator*, in the code below we prepare the train/validation data as a tuple which contains the training set text indexes (`x_train`) and the one-hot encoded ground truth labels (`y_train`).\n",
        "*   `batch_size`: *integer*, specifying the batch size used in training, default is 32.\n",
        "\n",
        "\n"
      ],
      "metadata": {
        "id": "Z16v2Ah5CD1S"
      }
    },
    {
      "cell_type": "code",
      "source": [
        "# This returns us a Learner instance that can be used to train and tune the Keras model.\n",
        "learner = ktrain.get_learner(model=model, train_data=(x_train, y_train), val_data=(x_test, y_test), batch_size=8)"
      ],
      "metadata": {
        "id": "KC6iMjP8CC--"
      },
      "execution_count": null,
      "outputs": []
    },
    {
      "cell_type": "markdown",
      "source": [
        "More specifically, it returns us the [BERTTextClassLearner](https://amaiya.github.io/ktrain/text/learner.html#ktrain.text.learner.BERTTextClassLearner) since we configured the model as the Bert text classification model (refer to the Model building section above)"
      ],
      "metadata": {
        "id": "rmtZK86j8iMN"
      }
    },
    {
      "cell_type": "code",
      "source": [
        "type(learner)"
      ],
      "metadata": {
        "colab": {
          "base_uri": "https://localhost:8080/",
          "height": 174
        },
        "id": "Qao9KZXT7Ct7",
        "outputId": "b20f7a39-bdab-4154-9569-723c6c8271c6"
      },
      "execution_count": null,
      "outputs": [
        {
          "output_type": "execute_result",
          "data": {
            "text/plain": [
              "ktrain.text.learner.BERTTextClassLearner"
            ],
            "text/html": [
              "<div style=\"max-width:800px; border: 1px solid var(--colab-border-color);\"><style>\n",
              "      pre.function-repr-contents {\n",
              "        overflow-x: auto;\n",
              "        padding: 8px 12px;\n",
              "        max-height: 500px;\n",
              "      }\n",
              "\n",
              "      pre.function-repr-contents.function-repr-contents-collapsed {\n",
              "        cursor: pointer;\n",
              "        max-height: 100px;\n",
              "      }\n",
              "    </style>\n",
              "    <pre style=\"white-space: initial; background:\n",
              "         var(--colab-secondary-surface-color); padding: 8px 12px;\n",
              "         border-bottom: 1px solid var(--colab-border-color);\"><b>ktrain.text.learner.BERTTextClassLearner</b><br/>def __init__(model, train_data=None, val_data=None, batch_size=U.DEFAULT_BS, eval_batch_size=U.DEFAULT_BS, workers=1, use_multiprocessing=False)</pre><pre class=\"function-repr-contents function-repr-contents-collapsed\" style=\"\"><a class=\"filepath\" style=\"display:none\" href=\"#\">/usr/local/lib/python3.10/dist-packages/ktrain/text/learner.py</a>```\n",
              "Main class used to tune and train Keras models for text classification using Array data.\n",
              "```</pre>\n",
              "      <script>\n",
              "      if (google.colab.kernel.accessAllowed && google.colab.files && google.colab.files.view) {\n",
              "        for (const element of document.querySelectorAll('.filepath')) {\n",
              "          element.style.display = 'block'\n",
              "          element.onclick = (event) => {\n",
              "            event.preventDefault();\n",
              "            event.stopPropagation();\n",
              "            google.colab.files.view(element.textContent, 7);\n",
              "          };\n",
              "        }\n",
              "      }\n",
              "      for (const element of document.querySelectorAll('.function-repr-contents')) {\n",
              "        element.onclick = (event) => {\n",
              "          event.preventDefault();\n",
              "          event.stopPropagation();\n",
              "          element.classList.toggle('function-repr-contents-collapsed');\n",
              "        };\n",
              "      }\n",
              "      </script>\n",
              "      </div>"
            ]
          },
          "metadata": {},
          "execution_count": 10
        }
      ]
    },
    {
      "cell_type": "markdown",
      "source": [
        "The BERTTextClassLearner is inherited from the [ArrayLearner](https://amaiya.github.io/ktrain/core.html#ktrain.core.ArrayLearner) class, which is a subclass of the [Learner](https://amaiya.github.io/ktrain/core.html#ktrain.core.Learner) class. Thus, we can use the inherited function [.fit()](https://amaiya.github.io/ktrain/core.html#ktrain.core.ArrayLearner.fit) to train the model directly. We can specify the learning rate (`lr`) and the number of epochs (`n_cycles`)."
      ],
      "metadata": {
        "id": "FgvouVAc8rhD"
      }
    },
    {
      "cell_type": "code",
      "source": [
        "# Let's train one epoch only for now\n",
        "# Warning: the training may take some time\n",
        "# Note: if you encounter OOM (out of memory issue), you may try to reduce the maxlen in the preprocessing stage or/and reduce the batch size above, which could be helpful\n",
        "learner.fit(lr=2e-5, n_cycles=1)"
      ],
      "metadata": {
        "colab": {
          "base_uri": "https://localhost:8080/"
        },
        "id": "bXySAMbq70B6",
        "outputId": "b068017c-eb19-4cf6-c2d3-896a05ebf4c9"
      },
      "execution_count": null,
      "outputs": [
        {
          "output_type": "stream",
          "name": "stdout",
          "text": [
            "356/356 [==============================] - 357s 934ms/step - loss: 0.3940 - accuracy: 0.8543 - val_loss: 0.2423 - val_accuracy: 0.9144\n"
          ]
        },
        {
          "output_type": "execute_result",
          "data": {
            "text/plain": [
              "<keras.src.callbacks.History at 0x7fda006bb340>"
            ]
          },
          "metadata": {},
          "execution_count": 11
        }
      ]
    },
    {
      "cell_type": "markdown",
      "source": [
        "## Model evaluation"
      ],
      "metadata": {
        "id": "eCGp9Tuh-47k"
      }
    },
    {
      "cell_type": "markdown",
      "source": [
        "Similar to the model training above, the model evaluation can be also done easily with one line of code using ktrain learner, after the training is finished. We can call the [.validate()](https://amaiya.github.io/ktrain/core.html#ktrain.core.Learner.validate) from the learner. By default, it uses the validation data (val_data) we spplied to the ktrain.get_learner in the model training section. Alternatively, we can also pass new test data as the test_data parameter.\n",
        "\n",
        "Here, we pass the list of the class names (`class_names`) to be used in classification report (otherwise the class integer IDs will be used instead)."
      ],
      "metadata": {
        "id": "2QceGz-z-8uH"
      }
    },
    {
      "cell_type": "code",
      "source": [
        "# It returns the confusion matrix based on the evaluation\n",
        "cm = learner.validate(class_names=preproc.get_classes())"
      ],
      "metadata": {
        "colab": {
          "base_uri": "https://localhost:8080/"
        },
        "id": "zTQEX4ANCYup",
        "outputId": "dae6b735-00cf-45a3-87db-5085f9e7d222"
      },
      "execution_count": null,
      "outputs": [
        {
          "output_type": "stream",
          "name": "stdout",
          "text": [
            "60/60 [==============================] - 56s 869ms/step\n",
            "                        precision    recall  f1-score   support\n",
            "\n",
            "           alt.atheism       0.90      0.77      0.83       319\n",
            "         comp.graphics       0.97      0.88      0.92       389\n",
            "          misc.forsale       0.98      0.95      0.97       390\n",
            "               sci.med       0.92      0.95      0.93       396\n",
            "soc.religion.christian       0.83      0.98      0.90       398\n",
            "\n",
            "              accuracy                           0.91      1892\n",
            "             macro avg       0.92      0.91      0.91      1892\n",
            "          weighted avg       0.92      0.91      0.91      1892\n",
            "\n"
          ]
        }
      ]
    },
    {
      "cell_type": "code",
      "source": [
        "import matplotlib.pyplot as plt\n",
        "from sklearn.metrics import confusion_matrix, ConfusionMatrixDisplay\n",
        "\n",
        "# We can easily visualize the confusion matrix with the returned confusion matrix\n",
        "plt.rcParams[\"figure.figsize\"] = (10,10) # adjust the figure size\n",
        "disp = ConfusionMatrixDisplay(confusion_matrix=cm,display_labels=preproc.get_classes())\n",
        "disp.plot()\n",
        "plt.show()"
      ],
      "metadata": {
        "colab": {
          "base_uri": "https://localhost:8080/",
          "height": 815
        },
        "id": "IlthP7mcDzuX",
        "outputId": "a0c689e8-0189-41b1-ce6e-096a78754810"
      },
      "execution_count": null,
      "outputs": [
        {
          "output_type": "display_data",
          "data": {
            "text/plain": [
              "<Figure size 1000x1000 with 2 Axes>"
            ],
            "image/png": "[encoded data removed]"
          },
          "metadata": {}
        }
      ]
    },
    {
      "cell_type": "markdown",
      "source": [
        "## Inference with the trained model"
      ],
      "metadata": {
        "id": "-MBuGWFRHOIz"
      }
    },
    {
      "cell_type": "markdown",
      "source": [
        "To use the trained model above, we can call the [learner.get_predictor()](https://amaiya.github.io/ktrain/core.html#ktrain.core.get_predictor) to obtain a Predictor object that allows to make predictions on newly coming **raw data**. We just need to pass the trained model from the learner together with the preprocessor."
      ],
      "metadata": {
        "id": "D-iTkpGZHV9j"
      }
    },
    {
      "cell_type": "code",
      "source": [
        "predictor = ktrain.get_predictor(model=learner.model, preproc=preproc)"
      ],
      "metadata": {
        "id": "5wcLdLcJGuyg"
      },
      "execution_count": null,
      "outputs": []
    },
    {
      "cell_type": "code",
      "source": [
        "predictor.get_classes() #The predictor can also access the list of target labels directly"
      ],
      "metadata": {
        "colab": {
          "base_uri": "https://localhost:8080/"
        },
        "id": "H2ggIhEhGyIN",
        "outputId": "37acfb97-4af1-45de-9002-ff558b24b40b"
      },
      "execution_count": null,
      "outputs": [
        {
          "output_type": "execute_result",
          "data": {
            "text/plain": [
              "['alt.atheism',\n",
              " 'comp.graphics',\n",
              " 'misc.forsale',\n",
              " 'sci.med',\n",
              " 'soc.religion.christian']"
            ]
          },
          "metadata": {},
          "execution_count": 15
        }
      ]
    },
    {
      "cell_type": "code",
      "source": [
        "# To predict the new data, we can simply input the raw text into the .predict() function\n",
        "# it will return the predicted label\n",
        "sample_raw_text = 'this is a news article from science domain'\n",
        "predictor.predict(sample_raw_text)"
      ],
      "metadata": {
        "colab": {
          "base_uri": "https://localhost:8080/",
          "height": 35
        },
        "id": "Q2zKyeSBIyLc",
        "outputId": "706c9aab-3ab1-45ee-81e7-3719a12eac0b"
      },
      "execution_count": null,
      "outputs": [
        {
          "output_type": "execute_result",
          "data": {
            "text/plain": [
              "'sci.med'"
            ],
            "application/vnd.google.colaboratory.intrinsic+json": {
              "type": "string"
            }
          },
          "metadata": {},
          "execution_count": 16
        }
      ]
    },
    {
      "cell_type": "code",
      "source": [
        "# By setting the return_proba=True, it will return the probability distribution instead\n",
        "predictor.predict(sample_raw_text, return_proba=True)"
      ],
      "metadata": {
        "colab": {
          "base_uri": "https://localhost:8080/"
        },
        "id": "LkiJFQuQG1Ec",
        "outputId": "41a5c716-2707-45c6-a5e0-e6599835cfe8"
      },
      "execution_count": null,
      "outputs": [
        {
          "output_type": "execute_result",
          "data": {
            "text/plain": [
              "array([0.22651176, 0.09618603, 0.06087951, 0.4172196 , 0.19920307],\n",
              "      dtype=float32)"
            ]
          },
          "metadata": {},
          "execution_count": 17
        }
      ]
    },
    {
      "cell_type": "code",
      "source": [
        "# We can also predict a list of raw texts at once\n",
        "sample_raw_textlist = ['this is a news article from science domain', 'this is an artical discussing about beliefs of people']\n",
        "predictor.predict(sample_raw_textlist)"
      ],
      "metadata": {
        "colab": {
          "base_uri": "https://localhost:8080/"
        },
        "id": "336eli1UJCYA",
        "outputId": "0239f8b8-53ef-47ee-9a7a-d3167b18f63f"
      },
      "execution_count": null,
      "outputs": [
        {
          "output_type": "execute_result",
          "data": {
            "text/plain": [
              "['sci.med', 'soc.religion.christian']"
            ]
          },
          "metadata": {},
          "execution_count": 18
        }
      ]
    },
    {
      "cell_type": "code",
      "source": [
        "# By setting the return_proba=True, it will return the probability distribution instead\n",
        "predictor.predict(sample_raw_textlist, return_proba=True)"
      ],
      "metadata": {
        "colab": {
          "base_uri": "https://localhost:8080/"
        },
        "id": "_Kly5BW_Je3u",
        "outputId": "ce577150-10a2-4421-f5b3-d44a4bd4341a"
      },
      "execution_count": null,
      "outputs": [
        {
          "output_type": "execute_result",
          "data": {
            "text/plain": [
              "array([[0.22651182, 0.09618598, 0.06087946, 0.41721955, 0.19920324],\n",
              "       [0.48139083, 0.00957492, 0.00936191, 0.0176688 , 0.4820035 ]],\n",
              "      dtype=float32)"
            ]
          },
          "metadata": {},
          "execution_count": 19
        }
      ]
    },
    {
      "cell_type": "markdown",
      "source": [
        "## Save and load the trained model"
      ],
      "metadata": {
        "id": "PUQSh5DaPmlQ"
      }
    },
    {
      "cell_type": "markdown",
      "source": [
        "Save the predictor using `predictor.save()`, which includes the model and preprocessor. After saving the predictor, you can see a 'BertTextClassifier' folder there, which contains both the model file (tf_model.h5) and the preprocessor (tf_model.preproc)."
      ],
      "metadata": {
        "id": "m6zupu2yLqQi"
      }
    },
    {
      "cell_type": "code",
      "source": [
        "# Save the predictor using predictor.save(path_to_model)\n",
        "predictor.save('BertTextClassifier')"
      ],
      "metadata": {
        "id": "SZB36m9QQt6H",
        "colab": {
          "base_uri": "https://localhost:8080/"
        },
        "outputId": "50004868-44de-43a7-bfe2-20d07633edfa"
      },
      "execution_count": null,
      "outputs": [
        {
          "output_type": "stream",
          "name": "stderr",
          "text": [
            "/usr/local/lib/python3.10/dist-packages/keras/src/engine/training.py:3103: UserWarning: You are saving your model as an HDF5 file via `model.save()`. This file format is considered legacy. We recommend using instead the native Keras format, e.g. `model.save('my_model.keras')`.\n",
            "  saving_api.save_model(\n"
          ]
        }
      ]
    },
    {
      "cell_type": "markdown",
      "source": [
        "To load the predictor, we can simply call the `ktrain.load_predictor()` with specifying the path to the saved model."
      ],
      "metadata": {
        "id": "82kYpuRxLvab"
      }
    },
    {
      "cell_type": "code",
      "source": [
        "# load the predictor using ktrain.load_predictor(path_to_model)\n",
        "# this will return us the saved the predictor\n",
        "p = ktrain.load_predictor('BertTextClassifier')\n",
        "\n",
        "# then the predictor can be used as usual\n",
        "sample_raw_textlist = ['this is a news article from science domain', 'this is an artical discussing about beliefs of people']\n",
        "predictor.predict(sample_raw_textlist)\n",
        "\n",
        "# with the loaded predictor, if you want to resume the training again, you can initialize the learner:\n",
        "# learner = ktrain.get_learner(p.model, train_data=(x_train, y_train), val_data=(x_test, y_test), batch_size=8)"
      ],
      "metadata": {
        "colab": {
          "base_uri": "https://localhost:8080/"
        },
        "id": "pRrjOhhiQvzt",
        "outputId": "1dd3e27a-e9d0-4336-ca21-5abe92a2b3ab"
      },
      "execution_count": null,
      "outputs": [
        {
          "output_type": "stream",
          "name": "stderr",
          "text": [
            "/usr/local/lib/python3.10/dist-packages/keras/src/initializers/initializers.py:120: UserWarning: The initializer GlorotNormal is unseeded and being called multiple times, which will return identical values each time (even if the initializer is unseeded). Please update your code to provide a seed to the initializer, or avoid using the same initializer instance more than once.\n",
            "  warnings.warn(\n"
          ]
        },
        {
          "output_type": "execute_result",
          "data": {
            "text/plain": [
              "['sci.med', 'soc.religion.christian']"
            ]
          },
          "metadata": {},
          "execution_count": 21
        }
      ]
    },
    {
      "cell_type": "markdown",
      "source": [
        "We can also load the preprocessor directly for preprocessing some text."
      ],
      "metadata": {
        "id": "SkwCtPIxL-aJ"
      }
    },
    {
      "cell_type": "code",
      "source": [
        "import pickle\n",
        "# loading preprocess and model file\n",
        "features = pickle.load(open('BertTextClassifier/tf_model.preproc','rb'))\n",
        "\n",
        "text = 'hello this is an test text'\n",
        "preproc_text = features.preprocess([text])\n",
        "preproc_text[0][0].shape # the preprocessor convert the raw text into the padded index of length 350 (maxlen)"
      ],
      "metadata": {
        "colab": {
          "base_uri": "https://localhost:8080/"
        },
        "id": "7c39qTdcQ6fW",
        "outputId": "b01827c0-eceb-473f-97a2-ede9d3096b87"
      },
      "execution_count": null,
      "outputs": [
        {
          "output_type": "execute_result",
          "data": {
            "text/plain": [
              "(350,)"
            ]
          },
          "metadata": {},
          "execution_count": 22
        }
      ]
    },
    {
      "cell_type": "markdown",
      "source": [
        "# 2.Sentence Pair Classification with ktrain using pretrained models"
      ],
      "metadata": {
        "id": "NNeBYWL1FDnB"
      }
    },
    {
      "cell_type": "markdown",
      "source": [
        "In this example, we will use the Microsoft Research Paraphrase Corpus (MRPC) to build a model that can tell if one sentence is the paraphrase of another, which is a sentence pair classification task. We will utilize the pretrained models such as Bert and distillbert."
      ],
      "metadata": {
        "id": "vvhagrXUPSqw"
      }
    },
    {
      "cell_type": "markdown",
      "source": [
        "## Data preperation"
      ],
      "metadata": {
        "id": "z90mFgIMRRq5"
      }
    },
    {
      "cell_type": "markdown",
      "source": [
        "First, let's download the MRPC training and test dataset."
      ],
      "metadata": {
        "id": "98eIquLfP48g"
      }
    },
    {
      "cell_type": "code",
      "source": [
        "!wget https://dl.fbaipublicfiles.com/senteval/senteval_data/msr_paraphrase_train.txt # training set\n",
        "!wget https://dl.fbaipublicfiles.com/senteval/senteval_data/msr_paraphrase_test.txt # test set"
      ],
      "metadata": {
        "colab": {
          "base_uri": "https://localhost:8080/"
        },
        "id": "I0IvleANPKMm",
        "outputId": "766eb029-879b-47b8-9938-caac215e2b01"
      },
      "execution_count": null,
      "outputs": [
        {
          "output_type": "stream",
          "name": "stdout",
          "text": [
            "--2024-05-03 08:01:13--  https://dl.fbaipublicfiles.com/senteval/senteval_data/msr_paraphrase_train.txt\n",
            "Resolving dl.fbaipublicfiles.com (dl.fbaipublicfiles.com)... 3.162.163.19, 3.162.163.51, 3.162.163.34, ...\n",
            "Connecting to dl.fbaipublicfiles.com (dl.fbaipublicfiles.com)|3.162.163.19|:443... connected.\n",
            "HTTP request sent, awaiting response... 200 OK\n",
            "Length: 1047044 (1023K) [text/plain]\n",
            "Saving to: ‘msr_paraphrase_train.txt.1’\n",
            "\n",
            "\r          msr_parap   0%[                    ]       0  --.-KB/s               \rmsr_paraphrase_trai 100%[===================>]   1023K  --.-KB/s    in 0.05s   \n",
            "\n",
            "2024-05-03 08:01:13 (18.5 MB/s) - ‘msr_paraphrase_train.txt.1’ saved [1047044/1047044]\n",
            "\n",
            "--2024-05-03 08:01:13--  https://dl.fbaipublicfiles.com/senteval/senteval_data/msr_paraphrase_test.txt\n",
            "Resolving dl.fbaipublicfiles.com (dl.fbaipublicfiles.com)... 3.162.163.19, 3.162.163.51, 3.162.163.34, ...\n",
            "Connecting to dl.fbaipublicfiles.com (dl.fbaipublicfiles.com)|3.162.163.19|:443... connected.\n",
            "HTTP request sent, awaiting response... 200 OK\n",
            "Length: 441275 (431K) [text/plain]\n",
            "Saving to: ‘msr_paraphrase_test.txt.1’\n",
            "\n",
            "msr_paraphrase_test 100%[===================>] 430.93K  --.-KB/s    in 0.04s   \n",
            "\n",
            "2024-05-03 08:01:13 (9.97 MB/s) - ‘msr_paraphrase_test.txt.1’ saved [441275/441275]\n",
            "\n"
          ]
        }
      ]
    },
    {
      "cell_type": "markdown",
      "source": [
        "Let's have a look at the raw dataset via pandas dataframe."
      ],
      "metadata": {
        "id": "ZMj7nHaFQEN8"
      }
    },
    {
      "cell_type": "code",
      "source": [
        "import pandas as pd\n",
        "import csv\n",
        "TRAIN = 'msr_paraphrase_train.txt'\n",
        "TEST = 'msr_paraphrase_test.txt'\n",
        "train_df = pd.read_csv(TRAIN, delimiter='\\t', quoting=csv.QUOTE_NONE)\n",
        "test_df = pd.read_csv(TEST, delimiter='\\t', quoting=csv.QUOTE_NONE)"
      ],
      "metadata": {
        "id": "_BnYSX_dQCSq"
      },
      "execution_count": null,
      "outputs": []
    },
    {
      "cell_type": "code",
      "source": [
        "train_df.head()"
      ],
      "metadata": {
        "colab": {
          "base_uri": "https://localhost:8080/",
          "height": 206
        },
        "id": "Cm5-nIsiQYu_",
        "outputId": "65e42278-131e-4680-cd5d-31bbb875a59f"
      },
      "execution_count": null,
      "outputs": [
        {
          "output_type": "execute_result",
          "data": {
            "text/plain": [
              "   Quality    #1 ID    #2 ID  \\\n",
              "0        1   702876   702977   \n",
              "1        0  2108705  2108831   \n",
              "2        1  1330381  1330521   \n",
              "3        0  3344667  3344648   \n",
              "4        1  1236820  1236712   \n",
              "\n",
              "                                           #1 String  \\\n",
              "0  Amrozi accused his brother , whom he called \" ...   \n",
              "1  Yucaipa owned Dominick 's before selling the c...   \n",
              "2  They had published an advertisement on the Int...   \n",
              "3  Around 0335 GMT , Tab shares were up 19 cents ...   \n",
              "4  The stock rose $ 2.11 , or about 11 percent , ...   \n",
              "\n",
              "                                           #2 String  \n",
              "0  Referring to him as only \" the witness \" , Amr...  \n",
              "1  Yucaipa bought Dominick 's in 1995 for $ 693 m...  \n",
              "2  On June 10 , the ship 's owners had published ...  \n",
              "3  Tab shares jumped 20 cents , or 4.6 % , to set...  \n",
              "4  PG & E Corp. shares jumped $ 1.63 or 8 percent...  "
            ],
            "text/html": [
              "\n",
              "  <div id=\"df-9a53d92f-61fa-4a74-abc6-8752bc7d127a\" class=\"colab-df-container\">\n",
              "    <div>\n",
              "<style scoped>\n",
              "    .dataframe tbody tr th:only-of-type {\n",
              "        vertical-align: middle;\n",
              "    }\n",
              "\n",
              "    .dataframe tbody tr th {\n",
              "        vertical-align: top;\n",
              "    }\n",
              "\n",
              "    .dataframe thead th {\n",
              "        text-align: right;\n",
              "    }\n",
              "</style>\n",
              "<table border=\"1\" class=\"dataframe\">\n",
              "  <thead>\n",
              "    <tr style=\"text-align: right;\">\n",
              "      <th></th>\n",
              "      <th>Quality</th>\n",
              "      <th>#1 ID</th>\n",
              "      <th>#2 ID</th>\n",
              "      <th>#1 String</th>\n",
              "      <th>#2 String</th>\n",
              "    </tr>\n",
              "  </thead>\n",
              "  <tbody>\n",
              "    <tr>\n",
              "      <th>0</th>\n",
              "      <td>1</td>\n",
              "      <td>702876</td>\n",
              "      <td>702977</td>\n",
              "      <td>Amrozi accused his brother , whom he called \" ...</td>\n",
              "      <td>Referring to him as only \" the witness \" , Amr...</td>\n",
              "    </tr>\n",
              "    <tr>\n",
              "      <th>1</th>\n",
              "      <td>0</td>\n",
              "      <td>2108705</td>\n",
              "      <td>2108831</td>\n",
              "      <td>Yucaipa owned Dominick 's before selling the c...</td>\n",
              "      <td>Yucaipa bought Dominick 's in 1995 for $ 693 m...</td>\n",
              "    </tr>\n",
              "    <tr>\n",
              "      <th>2</th>\n",
              "      <td>1</td>\n",
              "      <td>1330381</td>\n",
              "      <td>1330521</td>\n",
              "      <td>They had published an advertisement on the Int...</td>\n",
              "      <td>On June 10 , the ship 's owners had published ...</td>\n",
              "    </tr>\n",
              "    <tr>\n",
              "      <th>3</th>\n",
              "      <td>0</td>\n",
              "      <td>3344667</td>\n",
              "      <td>3344648</td>\n",
              "      <td>Around 0335 GMT , Tab shares were up 19 cents ...</td>\n",
              "      <td>Tab shares jumped 20 cents , or 4.6 % , to set...</td>\n",
              "    </tr>\n",
              "    <tr>\n",
              "      <th>4</th>\n",
              "      <td>1</td>\n",
              "      <td>1236820</td>\n",
              "      <td>1236712</td>\n",
              "      <td>The stock rose $ 2.11 , or about 11 percent , ...</td>\n",
              "      <td>PG &amp; E Corp. shares jumped $ 1.63 or 8 percent...</td>\n",
              "    </tr>\n",
              "  </tbody>\n",
              "</table>\n",
              "</div>\n",
              "    <div class=\"colab-df-buttons\">\n",
              "\n",
              "  <div class=\"colab-df-container\">\n",
              "    <button class=\"colab-df-convert\" onclick=\"convertToInteractive('df-9a53d92f-61fa-4a74-abc6-8752bc7d127a')\"\n",
              "            title=\"Convert this dataframe to an interactive table.\"\n",
              "            style=\"display:none;\">\n",
              "\n",
              "  <svg xmlns=\"http://www.w3.org/2000/svg\" height=\"24px\" viewBox=\"0 -960 960 960\">\n",
              "    <path d=\"M120-120v-720h720v720H120Zm60-500h600v-160H180v160Zm220 220h160v-160H400v160Zm0 220h160v-160H400v160ZM180-400h160v-160H180v160Zm440 0h160v-160H620v160ZM180-180h160v-160H180v160Zm440 0h160v-160H620v160Z\"/>\n",
              "  </svg>\n",
              "    </button>\n",
              "\n",
              "  <style>\n",
              "    .colab-df-container {\n",
              "      display:flex;\n",
              "      gap: 12px;\n",
              "    }\n",
              "\n",
              "    .colab-df-convert {\n",
              "      background-color: #E8F0FE;\n",
              "      border: none;\n",
              "      border-radius: 50%;\n",
              "      cursor: pointer;\n",
              "      display: none;\n",
              "      fill: #1967D2;\n",
              "      height: 32px;\n",
              "      padding: 0 0 0 0;\n",
              "      width: 32px;\n",
              "    }\n",
              "\n",
              "    .colab-df-convert:hover {\n",
              "      background-color: #E2EBFA;\n",
              "      box-shadow: 0px 1px 2px rgba(60, 64, 67, 0.3), 0px 1px 3px 1px rgba(60, 64, 67, 0.15);\n",
              "      fill: #174EA6;\n",
              "    }\n",
              "\n",
              "    .colab-df-buttons div {\n",
              "      margin-bottom: 4px;\n",
              "    }\n",
              "\n",
              "    [theme=dark] .colab-df-convert {\n",
              "      background-color: #3B4455;\n",
              "      fill: #D2E3FC;\n",
              "    }\n",
              "\n",
              "    [theme=dark] .colab-df-convert:hover {\n",
              "      background-color: #434B5C;\n",
              "      box-shadow: 0px 1px 3px 1px rgba(0, 0, 0, 0.15);\n",
              "      filter: drop-shadow(0px 1px 2px rgba(0, 0, 0, 0.3));\n",
              "      fill: #FFFFFF;\n",
              "    }\n",
              "  </style>\n",
              "\n",
              "    <script>\n",
              "      const buttonEl =\n",
              "        document.querySelector('#df-9a53d92f-61fa-4a74-abc6-8752bc7d127a button.colab-df-convert');\n",
              "      buttonEl.style.display =\n",
              "        google.colab.kernel.accessAllowed ? 'block' : 'none';\n",
              "\n",
              "      async function convertToInteractive(key) {\n",
              "        const element = document.querySelector('#df-9a53d92f-61fa-4a74-abc6-8752bc7d127a');\n",
              "        const dataTable =\n",
              "          await google.colab.kernel.invokeFunction('convertToInteractive',\n",
              "                                                    [key], {});\n",
              "        if (!dataTable) return;\n",
              "\n",
              "        const docLinkHtml = 'Like what you see? Visit the ' +\n",
              "          '<a target=\"_blank\" href=https://colab.research.google.com/notebooks/data_table.ipynb>data table notebook</a>'\n",
              "          + ' to learn more about interactive tables.';\n",
              "        element.innerHTML = '';\n",
              "        dataTable['output_type'] = 'display_data';\n",
              "        await google.colab.output.renderOutput(dataTable, element);\n",
              "        const docLink = document.createElement('div');\n",
              "        docLink.innerHTML = docLinkHtml;\n",
              "        element.appendChild(docLink);\n",
              "      }\n",
              "    </script>\n",
              "  </div>\n",
              "\n",
              "\n",
              "<div id=\"df-f153578e-b929-420c-82ac-d447fabe948f\">\n",
              "  <button class=\"colab-df-quickchart\" onclick=\"quickchart('df-f153578e-b929-420c-82ac-d447fabe948f')\"\n",
              "            title=\"Suggest charts\"\n",
              "            style=\"display:none;\">\n",
              "\n",
              "<svg xmlns=\"http://www.w3.org/2000/svg\" height=\"24px\"viewBox=\"0 0 24 24\"\n",
              "     width=\"24px\">\n",
              "    <g>\n",
              "        <path d=\"M19 3H5c-1.1 0-2 .9-2 2v14c0 1.1.9 2 2 2h14c1.1 0 2-.9 2-2V5c0-1.1-.9-2-2-2zM9 17H7v-7h2v7zm4 0h-2V7h2v10zm4 0h-2v-4h2v4z\"/>\n",
              "    </g>\n",
              "</svg>\n",
              "  </button>\n",
              "\n",
              "<style>\n",
              "  .colab-df-quickchart {\n",
              "      --bg-color: #E8F0FE;\n",
              "      --fill-color: #1967D2;\n",
              "      --hover-bg-color: #E2EBFA;\n",
              "      --hover-fill-color: #174EA6;\n",
              "      --disabled-fill-color: #AAA;\n",
              "      --disabled-bg-color: #DDD;\n",
              "  }\n",
              "\n",
              "  [theme=dark] .colab-df-quickchart {\n",
              "      --bg-color: #3B4455;\n",
              "      --fill-color: #D2E3FC;\n",
              "      --hover-bg-color: #434B5C;\n",
              "      --hover-fill-color: #FFFFFF;\n",
              "      --disabled-bg-color: #3B4455;\n",
              "      --disabled-fill-color: #666;\n",
              "  }\n",
              "\n",
              "  .colab-df-quickchart {\n",
              "    background-color: var(--bg-color);\n",
              "    border: none;\n",
              "    border-radius: 50%;\n",
              "    cursor: pointer;\n",
              "    display: none;\n",
              "    fill: var(--fill-color);\n",
              "    height: 32px;\n",
              "    padding: 0;\n",
              "    width: 32px;\n",
              "  }\n",
              "\n",
              "  .colab-df-quickchart:hover {\n",
              "    background-color: var(--hover-bg-color);\n",
              "    box-shadow: 0 1px 2px rgba(60, 64, 67, 0.3), 0 1px 3px 1px rgba(60, 64, 67, 0.15);\n",
              "    fill: var(--button-hover-fill-color);\n",
              "  }\n",
              "\n",
              "  .colab-df-quickchart-complete:disabled,\n",
              "  .colab-df-quickchart-complete:disabled:hover {\n",
              "    background-color: var(--disabled-bg-color);\n",
              "    fill: var(--disabled-fill-color);\n",
              "    box-shadow: none;\n",
              "  }\n",
              "\n",
              "  .colab-df-spinner {\n",
              "    border: 2px solid var(--fill-color);\n",
              "    border-color: transparent;\n",
              "    border-bottom-color: var(--fill-color);\n",
              "    animation:\n",
              "      spin 1s steps(1) infinite;\n",
              "  }\n",
              "\n",
              "  @keyframes spin {\n",
              "    0% {\n",
              "      border-color: transparent;\n",
              "      border-bottom-color: var(--fill-color);\n",
              "      border-left-color: var(--fill-color);\n",
              "    }\n",
              "    20% {\n",
              "      border-color: transparent;\n",
              "      border-left-color: var(--fill-color);\n",
              "      border-top-color: var(--fill-color);\n",
              "    }\n",
              "    30% {\n",
              "      border-color: transparent;\n",
              "      border-left-color: var(--fill-color);\n",
              "      border-top-color: var(--fill-color);\n",
              "      border-right-color: var(--fill-color);\n",
              "    }\n",
              "    40% {\n",
              "      border-color: transparent;\n",
              "      border-right-color: var(--fill-color);\n",
              "      border-top-color: var(--fill-color);\n",
              "    }\n",
              "    60% {\n",
              "      border-color: transparent;\n",
              "      border-right-color: var(--fill-color);\n",
              "    }\n",
              "    80% {\n",
              "      border-color: transparent;\n",
              "      border-right-color: var(--fill-color);\n",
              "      border-bottom-color: var(--fill-color);\n",
              "    }\n",
              "    90% {\n",
              "      border-color: transparent;\n",
              "      border-bottom-color: var(--fill-color);\n",
              "    }\n",
              "  }\n",
              "</style>\n",
              "\n",
              "  <script>\n",
              "    async function quickchart(key) {\n",
              "      const quickchartButtonEl =\n",
              "        document.querySelector('#' + key + ' button');\n",
              "      quickchartButtonEl.disabled = true;  // To prevent multiple clicks.\n",
              "      quickchartButtonEl.classList.add('colab-df-spinner');\n",
              "      try {\n",
              "        const charts = await google.colab.kernel.invokeFunction(\n",
              "            'suggestCharts', [key], {});\n",
              "      } catch (error) {\n",
              "        console.error('Error during call to suggestCharts:', error);\n",
              "      }\n",
              "      quickchartButtonEl.classList.remove('colab-df-spinner');\n",
              "      quickchartButtonEl.classList.add('colab-df-quickchart-complete');\n",
              "    }\n",
              "    (() => {\n",
              "      let quickchartButtonEl =\n",
              "        document.querySelector('#df-f153578e-b929-420c-82ac-d447fabe948f button');\n",
              "      quickchartButtonEl.style.display =\n",
              "        google.colab.kernel.accessAllowed ? 'block' : 'none';\n",
              "    })();\n",
              "  </script>\n",
              "</div>\n",
              "\n",
              "    </div>\n",
              "  </div>\n"
            ],
            "application/vnd.google.colaboratory.intrinsic+json": {
              "type": "dataframe",
              "variable_name": "train_df",
              "summary": "{\n  \"name\": \"train_df\",\n  \"rows\": 4076,\n  \"fields\": [\n    {\n      \"column\": \"Quality\",\n      \"properties\": {\n        \"dtype\": \"number\",\n        \"std\": 0,\n        \"min\": 0,\n        \"max\": 1,\n        \"num_unique_values\": 2,\n        \"samples\": [\n          0,\n          1\n        ],\n        \"semantic_type\": \"\",\n        \"description\": \"\"\n      }\n    },\n    {\n      \"column\": \"#1 ID\",\n      \"properties\": {\n        \"dtype\": \"number\",\n        \"std\": 991388,\n        \"min\": 709,\n        \"max\": 3464314,\n        \"num_unique_values\": 4076,\n        \"samples\": [\n          1254066,\n          2167155\n        ],\n        \"semantic_type\": \"\",\n        \"description\": \"\"\n      }\n    },\n    {\n      \"column\": \"#2 ID\",\n      \"properties\": {\n        \"dtype\": \"number\",\n        \"std\": 991390,\n        \"min\": 140,\n        \"max\": 3464302,\n        \"num_unique_values\": 3904,\n        \"samples\": [\n          3113810,\n          840236\n        ],\n        \"semantic_type\": \"\",\n        \"description\": \"\"\n      }\n    },\n    {\n      \"column\": \"#1 String\",\n      \"properties\": {\n        \"dtype\": \"string\",\n        \"num_unique_values\": 4076,\n        \"samples\": [\n          \"General Jeffrey said he would donate his military pension to charity for the period he was in office at Yarralumla .\",\n          \"Sir Wilfred Thesiger , traveller , writer , and one of the last solitary explorers of a shrinking planet , has died aged 93 .\"\n        ],\n        \"semantic_type\": \"\",\n        \"description\": \"\"\n      }\n    },\n    {\n      \"column\": \"#2 String\",\n      \"properties\": {\n        \"dtype\": \"string\",\n        \"num_unique_values\": 3904,\n        \"samples\": [\n          \"The Commission has publicly said one of its goals is to ensure other producers ' server software can connect to desktop computers running Windows as easily as Microsoft 's can .\",\n          \"The second rover is scheduled for launch on June 25 and both will arrive at Mars in January .\"\n        ],\n        \"semantic_type\": \"\",\n        \"description\": \"\"\n      }\n    }\n  ]\n}"
            }
          },
          "metadata": {},
          "execution_count": 25
        }
      ]
    },
    {
      "cell_type": "markdown",
      "source": [
        "We will use the `#1 String` and `#2 String` columns to prepare the arrays of sentence pairs, and use the `Quality` column to prepare the target label."
      ],
      "metadata": {
        "id": "LrcL34rsQr_u"
      }
    },
    {
      "cell_type": "code",
      "source": [
        "x_train = train_df[['#1 String', '#2 String']].values\n",
        "y_train = train_df['Quality'].values\n",
        "x_test = test_df[['#1 String', '#2 String']].values\n",
        "y_test = test_df['Quality'].values\n",
        "\n",
        "\n",
        "# IMPORTANT: data format for sentence pair classification is list of tuples of form (str, str)\n",
        "x_train = list(map(tuple, x_train))\n",
        "x_test = list(map(tuple, x_test))"
      ],
      "metadata": {
        "id": "B2nTyWSJQYcZ"
      },
      "execution_count": null,
      "outputs": []
    },
    {
      "cell_type": "code",
      "source": [
        "print(x_train[0])\n",
        "print(y_train[0])"
      ],
      "metadata": {
        "colab": {
          "base_uri": "https://localhost:8080/"
        },
        "id": "Z-B7Elc9RJfD",
        "outputId": "06611404-58cb-4098-aac3-fb4efc7a9a50"
      },
      "execution_count": null,
      "outputs": [
        {
          "output_type": "stream",
          "name": "stdout",
          "text": [
            "('Amrozi accused his brother , whom he called \" the witness \" , of deliberately distorting his evidence .', 'Referring to him as only \" the witness \" , Amrozi accused his brother of deliberately distorting his evidence .')\n",
            "1\n"
          ]
        }
      ]
    },
    {
      "cell_type": "markdown",
      "source": [
        "## Build and train the Bert/DistillBert model"
      ],
      "metadata": {
        "id": "_ROgzvlIRWQz"
      }
    },
    {
      "cell_type": "markdown",
      "source": [
        "ktrain provide the [Transformer](https://amaiya.github.io/ktrain/text/index.html#ktrain.text.Transformer) class, which can be easily used with the hugging face pretrained transformer models (see the [models available](https://huggingface.co/transformers/v3.3.1/pretrained_models.html))."
      ],
      "metadata": {
        "id": "5rLER3nxTAWE"
      }
    },
    {
      "cell_type": "code",
      "source": [
        "import ktrain\n",
        "from ktrain import text\n",
        "\n",
        "# As can be seen from the pretrained model list (https://huggingface.co/transformers/v3.3.1/pretrained_models.html)\n",
        "# we can load any of the pretrained model by simply specifying the model name\n",
        "MODEL_NAME = {'bert' : 'bert-base-uncased', 'distillbert': 'distilbert-base-uncased'}\n",
        "\n",
        "# Using the bert model\n",
        "t = text.Transformer(model_name = MODEL_NAME['bert'], maxlen=128, class_names=['not paraphrase', 'paraphrase'])\n",
        "\n",
        "# Using the distillbert model - you can uncomment to try with distillbert\n",
        "#t = text.Transformer(model_name = MODEL_NAME['distillbert'], maxlen=128, class_names=['not paraphrase', 'paraphrase'])"
      ],
      "metadata": {
        "id": "uw6Dm2ETRc-K",
        "colab": {
          "base_uri": "https://localhost:8080/"
        },
        "outputId": "aabfc342-2692-4fc5-f2b0-cb0167db93c1"
      },
      "execution_count": null,
      "outputs": [
        {
          "output_type": "stream",
          "name": "stderr",
          "text": [
            "/usr/local/lib/python3.10/dist-packages/huggingface_hub/utils/_token.py:88: UserWarning: \n",
            "The secret `HF_TOKEN` does not exist in your Colab secrets.\n",
            "To authenticate with the Hugging Face Hub, create a token in your settings tab (https://huggingface.co/settings/tokens), set it as secret in your Google Colab and restart your session.\n",
            "You will be able to reuse this secret in all of your notebooks.\n",
            "Please note that authentication is recommended but still optional to access public models or datasets.\n",
            "  warnings.warn(\n"
          ]
        }
      ]
    },
    {
      "cell_type": "code",
      "source": [
        "# Preprocess the train/val data using the .preprocess_train() and .preprocess_test() functions\n",
        "trn = t.preprocess_train(x_train, y_train)\n",
        "val = t.preprocess_test(x_test, y_test)"
      ],
      "metadata": {
        "colab": {
          "base_uri": "https://localhost:8080/",
          "height": 139
        },
        "id": "bUR_B6V7StgA",
        "outputId": "3771583b-00af-45d6-cc27-0deadab21bff"
      },
      "execution_count": null,
      "outputs": [
        {
          "output_type": "stream",
          "name": "stdout",
          "text": [
            "preprocessing train...\n",
            "language: en\n",
            "sentence pairs detected\n"
          ]
        },
        {
          "output_type": "display_data",
          "data": {
            "text/plain": [
              "<IPython.core.display.HTML object>"
            ],
            "text/html": [
              "\n",
              "<style>\n",
              "    /* Turns off some styling */\n",
              "    progress {\n",
              "        /* gets rid of default border in Firefox and Opera. */\n",
              "        border: none;\n",
              "        /* Needs to be in here for Safari polyfill so background images work as expected. */\n",
              "        background-size: auto;\n",
              "    }\n",
              "    progress:not([value]), progress:not([value])::-webkit-progress-bar {\n",
              "        background: repeating-linear-gradient(45deg, #7e7e7e, #7e7e7e 10px, #5c5c5c 10px, #5c5c5c 20px);\n",
              "    }\n",
              "    .progress-bar-interrupted, .progress-bar-interrupted::-webkit-progress-bar {\n",
              "        background: #F44336;\n",
              "    }\n",
              "</style>\n"
            ]
          },
          "metadata": {}
        },
        {
          "output_type": "display_data",
          "data": {
            "text/plain": [
              "<IPython.core.display.HTML object>"
            ],
            "text/html": []
          },
          "metadata": {}
        },
        {
          "output_type": "stream",
          "name": "stdout",
          "text": [
            "Is Multi-Label? False\n",
            "preprocessing test...\n",
            "language: en\n",
            "sentence pairs detected\n"
          ]
        },
        {
          "output_type": "display_data",
          "data": {
            "text/plain": [
              "<IPython.core.display.HTML object>"
            ],
            "text/html": [
              "\n",
              "<style>\n",
              "    /* Turns off some styling */\n",
              "    progress {\n",
              "        /* gets rid of default border in Firefox and Opera. */\n",
              "        border: none;\n",
              "        /* Needs to be in here for Safari polyfill so background images work as expected. */\n",
              "        background-size: auto;\n",
              "    }\n",
              "    progress:not([value]), progress:not([value])::-webkit-progress-bar {\n",
              "        background: repeating-linear-gradient(45deg, #7e7e7e, #7e7e7e 10px, #5c5c5c 10px, #5c5c5c 20px);\n",
              "    }\n",
              "    .progress-bar-interrupted, .progress-bar-interrupted::-webkit-progress-bar {\n",
              "        background: #F44336;\n",
              "    }\n",
              "</style>\n"
            ]
          },
          "metadata": {}
        },
        {
          "output_type": "display_data",
          "data": {
            "text/plain": [
              "<IPython.core.display.HTML object>"
            ],
            "text/html": []
          },
          "metadata": {}
        }
      ]
    },
    {
      "cell_type": "code",
      "source": [
        "model = t.get_classifier()\n",
        "learner = ktrain.get_learner(model, train_data=trn, val_data=val, batch_size=32) # lower bs if OOM occurs\n",
        "learner.fit(lr=5e-5, n_cycles=1) #use epoch 1 for demonstration"
      ],
      "metadata": {
        "colab": {
          "base_uri": "https://localhost:8080/"
        },
        "id": "xAWb_a_bSsX7",
        "outputId": "6003fa8f-a167-459a-d04c-cb2096aef66e"
      },
      "execution_count": null,
      "outputs": [
        {
          "output_type": "stream",
          "name": "stdout",
          "text": [
            "128/128 [==============================] - 137s 896ms/step - loss: 0.6207 - accuracy: 0.6710 - val_loss: 0.5135 - val_accuracy: 0.7414\n"
          ]
        },
        {
          "output_type": "execute_result",
          "data": {
            "text/plain": [
              "<keras.src.callbacks.History at 0x7fd9b189c190>"
            ]
          },
          "metadata": {},
          "execution_count": 30
        }
      ]
    },
    {
      "cell_type": "markdown",
      "source": [
        "## Make Predictions"
      ],
      "metadata": {
        "id": "4xrJDDGeVmhs"
      }
    },
    {
      "cell_type": "markdown",
      "source": [
        "Let's do some predictions using the samples from `x_test`."
      ],
      "metadata": {
        "id": "eIXpO1qhWsGa"
      }
    },
    {
      "cell_type": "code",
      "source": [
        "predictor = ktrain.get_predictor(learner.model, t)"
      ],
      "metadata": {
        "id": "SjHZTBjFVnpX"
      },
      "execution_count": null,
      "outputs": []
    },
    {
      "cell_type": "code",
      "source": [
        "print('Ground_truth: '+predictor.get_classes()[y_test[0]])\n",
        "print('Predicted: '+predictor.predict(x_test[0]))"
      ],
      "metadata": {
        "colab": {
          "base_uri": "https://localhost:8080/"
        },
        "id": "8Fd5DnjSVqI3",
        "outputId": "db19501d-63bb-4394-c479-7f6057822c20"
      },
      "execution_count": null,
      "outputs": [
        {
          "output_type": "stream",
          "name": "stdout",
          "text": [
            "Ground_truth: paraphrase\n",
            "Predicted: paraphrase\n"
          ]
        }
      ]
    },
    {
      "cell_type": "code",
      "source": [
        "print('Ground_truth: '+predictor.get_classes()[y_test[4]])\n",
        "print('Predicted: '+predictor.predict(x_test[4]))"
      ],
      "metadata": {
        "colab": {
          "base_uri": "https://localhost:8080/"
        },
        "id": "Mxsu079DWnIw",
        "outputId": "f5d8003f-cfd5-4ad0-8438-680bd1145d34"
      },
      "execution_count": null,
      "outputs": [
        {
          "output_type": "stream",
          "name": "stdout",
          "text": [
            "Ground_truth: not paraphrase\n",
            "Predicted: paraphrase\n"
          ]
        }
      ]
    },
    {
      "cell_type": "markdown",
      "metadata": {
        "id": "C4xteNApjplg"
      },
      "source": [
        "# Lab 9 Exercise\n",
        "Please complete the following **question E1** for Lab 9 and check with your Lab Facilitator in the lab.\n",
        "\n",
        "**Submission Due**: Your Lab 10 (in Week 11)\n",
        "\n",
        "**Submission Method**: Show your final code to your Lab Facilitator during the Lab."
      ]
    },
    {
      "cell_type": "markdown",
      "metadata": {
        "id": "MdmzzhI5iP93"
      },
      "source": [
        "## E1. Play with different pretrained models for text classification using ktrain\n"
      ]
    },
    {
      "cell_type": "markdown",
      "source": [
        "Utill now, you've got familar with the procedure of building the pretraind models for text classification. As can be seen from the section 2 that it is possible and easy to build a pretrained transformer model for text classification (by changing the model name to the expected one). In this exercise, please try to:\n",
        "\n",
        "\n",
        "*   build and train a `RoBERTa` (any RoBERTa variant from the [model list](https://huggingface.co/transformers/v3.3.1/pretrained_models.html) is fine) model for news classification, using the 20ng news dataset below. You can decide # epochs, batch_size, max_len etc. by yourself.\n",
        "*   after the training is finished, please use any ***two*** samples from the test set data (`x_test`) to do the prediction, and print out both the ground truth label and the model predicted label for comparison. You can refer to the sample output in the end.\n",
        "\n",
        "Hint: You can follow the procedure in section 2 and apply it with the 20ng dataset, and change the model type to the RoBERTa variant.\n",
        "\n"
      ],
      "metadata": {
        "id": "NPEofsP7Xc8N"
      }
    },
    {
      "cell_type": "code",
      "source": [
        "from sklearn.datasets import fetch_20newsgroups # collect 5 classes (5 types of news data). Note that 20newsgroup dataset has 20 classes)\n",
        "categories = ['alt.atheism', 'soc.religion.christian','comp.graphics', 'sci.med', 'misc.forsale']\n",
        "twenty_train = fetch_20newsgroups(subset='train',categories=categories, shuffle=True, random_state=42)\n",
        "\n",
        "# Get the training set\n",
        "train_b = fetch_20newsgroups(subset='train',\n",
        "   categories=categories, shuffle=True, random_state=42)\n",
        "\n",
        "# Get the validation set\n",
        "test_b = fetch_20newsgroups(subset='test',\n",
        "   categories=categories, shuffle=True, random_state=42)\n",
        "\n",
        "x_train = train_b.data # Get the raw text\n",
        "y_train = train_b.target # Get the target/label indexes\n",
        "x_test = test_b.data\n",
        "y_test = test_b.target\n",
        "\n",
        "print('size of training set: %s' % (len(x_train)))\n",
        "print('size of validation set: %s' % (len(x_test)))\n",
        "print('classes: %s' % (train_b.target_names)) # get the target/label set (the order aligns with the target/label indexes above)\n"
      ],
      "metadata": {
        "id": "11p84ZK6iNNI"
      },
      "execution_count": null,
      "outputs": []
    },
    {
      "cell_type": "code",
      "source": [
        "# Please build and train your model here. Feel free to add multiple code cells below if needed.\n",
        "\n",
        "\n",
        "\n",
        "\n",
        "\n"
      ],
      "metadata": {
        "id": "UwRsoomhiOJ6"
      },
      "execution_count": null,
      "outputs": []
    },
    {
      "cell_type": "code",
      "source": [
        "# Please get 2 of the test data and make prediction here. You need to print out both the ground truth label and the predicted label (refer to the sample output below)\n",
        "\n",
        "\n",
        "\n",
        "\n"
      ],
      "metadata": {
        "id": "E9F4EspxiofV"
      },
      "execution_count": null,
      "outputs": []
    },
    {
      "cell_type": "markdown",
      "source": [
        "Sample output\n",
        "\n",
        "![Capture.PNG](data:image/png;base64,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)"
      ],
      "metadata": {
        "id": "-AcAli8yiiKu"
      }
    }
  ]
}